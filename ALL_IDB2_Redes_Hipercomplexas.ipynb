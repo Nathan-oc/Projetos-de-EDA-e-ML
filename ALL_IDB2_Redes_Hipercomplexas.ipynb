{
  "nbformat": 4,
  "nbformat_minor": 0,
  "metadata": {
    "colab": {
      "provenance": [],
      "include_colab_link": true
    },
    "kernelspec": {
      "name": "python3",
      "display_name": "Python 3"
    },
    "language_info": {
      "name": "python"
    },
    "accelerator": "GPU",
    "gpuClass": "standard"
  },
  "cells": [
    {
      "cell_type": "markdown",
      "metadata": {
        "id": "view-in-github",
        "colab_type": "text"
      },
      "source": [
        "<a href=\"https://colab.research.google.com/github/Nathan-oc/Projetos-de-EDA-e-ML/blob/main/ALL_IDB2_Redes_Hipercomplexas.ipynb\" target=\"_parent\"><img src=\"https://colab.research.google.com/assets/colab-badge.svg\" alt=\"Open In Colab\"/></a>"
      ]
    },
    {
      "cell_type": "markdown",
      "source": [
        "# Introdução\n",
        "\n",
        "O diagnóstico precoce de câncer é essencial para o tratamento bem-sucedido da doença. Uma das formas de detectar o câncer é através da análise de imagens de células sanguíneas. No entanto, a análise manual dessas imagens é demorada e propensa a erros. Por isso, o uso de inteligência artificial para classificar essas imagens se torna uma ferramenta valiosa na detecção de câncer.\n",
        "\n",
        "Nesse projeto, utilizaremos redes neurais convolucionais (CNN) para classificar imagens de linfócitos em saudáveis ou cancerígenos, conhecidos também como linfoblastos. As redes neurais convolucionais são uma classe de redes neurais artificiais que são especialmente projetadas para o processamento de imagens. Elas são capazes de extrair características importantes de imagens, como bordas, curvas e texturas, o que as torna uma escolha popular para classificação de imagens.\n",
        "\n",
        "Além disso, a álgebra de Clifford é uma ferramenta útil para encontrar relações entre os canais de cores em uma imagem, permitindo uma melhor compreensão das características importantes da imagem, o que pode melhorar a precisão do modelo de classificação. Isso é especialmente importante quando se trabalha com um conjunto limitado de imagens, já que a álgebra de Clifford pode ajudar a extrair informações valiosas das imagens disponíveis.\n",
        "\n",
        "O objetivo final do projeto é treinar uma rede neural convolucional para classificar os linfócitos em saudáveis ou cancerígenos com alta precisão. Isso permitirá que os médicos possam realizar um diagnóstico mais preciso e rápido, o que pode levar a um tratamento mais bem-sucedido e melhores resultados para os pacientes.\n",
        "\n",
        "\n",
        "Como orientando de iniciação científica do Marcos Eduardo Valle, do IMECC - UNICAMP, tive a oportunidade de revisitar um estudo desenvolvido em colaboração com o doutorando do Marcos. Como tal, desejo salientar que os notebooks originais e o estudo em si foram desenvolvidos por eles, e eu apenas utilizei as ferramentas fornecidas por eles para aprimorar minha compreensão sobre redes neurais convolucionais com valores hipercomplexos. Os notebooks originais podem ser encontrados [aqui](\"https://github.com/mevalle/Hypercomplex-valued-Convolutional-Neural-Networks\"). "
      ],
      "metadata": {
        "id": "dC7-qPgtWVVJ"
      }
    },
    {
      "cell_type": "markdown",
      "source": [
        "## Montando Google Drive"
      ],
      "metadata": {
        "id": "lYz4LkU9LN8U"
      }
    },
    {
      "cell_type": "code",
      "source": [
        "from google.colab import drive\n",
        "drive.mount('/content/drive')"
      ],
      "metadata": {
        "colab": {
          "base_uri": "https://localhost:8080/"
        },
        "id": "vygiAqHrqdgn",
        "outputId": "ea907cd9-ec51-4b28-8649-e9a82d2babde"
      },
      "execution_count": null,
      "outputs": [
        {
          "output_type": "stream",
          "name": "stdout",
          "text": [
            "Mounted at /content/drive\n"
          ]
        }
      ]
    },
    {
      "cell_type": "markdown",
      "source": [
        "## Importando Bibliotecas\n",
        "\n",
        "Para a implementação do projeto, é necessário importar as seguintes bibliotecas:\n",
        "\n",
        "* `glob`: usada para buscar os arquivos de imagens no diretório especificado;\n",
        "* `cv2`: usada para realizar operações de processamento de imagem;\n",
        "* `numpy`: usada para realizar operações matemáticas e manipulação de array;\n",
        "* `pandas`: usada para carregar e manipular os dados do conjunto de treinamento;\n",
        "* `scikit-learn`: usada para dividir os dados de treinamento e teste em conjuntos e para avaliar a performance do modelo;\n",
        "* `tensorflow`: usada para construir e treinar a rede neural convolucional."
      ],
      "metadata": {
        "id": "6Afy3TGNLWFl"
      }
    },
    {
      "cell_type": "code",
      "execution_count": null,
      "metadata": {
        "id": "P8NKHwI9DBlb"
      },
      "outputs": [],
      "source": [
        "import glob\n",
        "import cv2\n",
        "import time\n",
        "import numpy as np\n",
        "import pandas as pd\n",
        "import matplotlib.pyplot as plt\n",
        "import seaborn as sns\n",
        "from sklearn.model_selection import train_test_split\n",
        "from sklearn.metrics import accuracy_score, precision_score, recall_score, confusion_matrix"
      ]
    },
    {
      "cell_type": "code",
      "source": [
        "import tensorflow as tf\n",
        "import tensorflow.keras as kr\n",
        "from tensorflow.keras import datasets, models \n",
        "from tensorflow.keras import layers, activations, initializers\n",
        "from tensorflow.python.framework import tensor_shape\n",
        "from tensorflow.python.keras.engine.input_spec import InputSpec"
      ],
      "metadata": {
        "id": "aOhb94i5CvmX"
      },
      "execution_count": null,
      "outputs": []
    },
    {
      "cell_type": "markdown",
      "source": [
        "## Definição da Camada de Convolução Hipercomplexa\n",
        "\n",
        "Para utilizar a álgebra de Clifford na rede neural convolucional, é necessário definir uma camada personalizada que utilize essa técnica. Nesta seção, será criada uma classe do Python que é uma camada personalizada do TensorFlow para realizar a convolução hipercomplexa.\n",
        "\n",
        "Primeiramente, é necessário importar a biblioteca Clifford, que é uma implementação de Python da álgebra de Clifford. Em seguida, definimos a classe `HiperConv2D` que estende a classe `tf.keras.layers.Layer`. Esta classe é responsável por realizar a convolução hipercomplexa em uma imagem.\n",
        "\n",
        "No código, a classe é definida com vários parâmetros, como o número de filtros, tamanho do kernel, stride, padding, álgebra de Clifford, formato de dados, inicializador, ativação e uso de bias. Na função \"build\", a camada é construída e os filtros são definidos para cada parte hipercomplexa dos parâmetros (real e imaginária). A função \"call\" realiza a convolução, gerando tensores para cada parte hipercomplexa dos filtros e fazendo a concatenação dos resultados. O uso de bias e função de ativação também são definidos nesta função.\n",
        "\n",
        "\n"
      ],
      "metadata": {
        "id": "DReDByjzLaAd"
      }
    },
    {
      "cell_type": "code",
      "source": [
        "class HiperConv2D(kr.layers.Layer):\n",
        "  \n",
        "  # função inicializadora de uma classe, onde definimos os atributos particulares que cada objeto terá ao ser instanciado\n",
        "    def __init__(self,\n",
        "               filters,\n",
        "               kernel_size,\n",
        "               strides = 1,\n",
        "               padding = \"VALID\",\n",
        "               algebra = np.array([[-1, 1, -1], [-1, -1, 1], [1, -1, -1]]),\n",
        "               data_format = None,\n",
        "               initializer = 'glorot_normal',\n",
        "               activation = None,\n",
        "               use_bias = True,\n",
        "              ):\n",
        "        super(HiperConv2D,self).__init__() # ??\n",
        "        self.filters = filters\n",
        "        self.kernel_size = kernel_size\n",
        "        self.strides = strides\n",
        "        self.padding = padding\n",
        "        self.algebra = algebra # principal atributo que define a camada hipercomplexa\n",
        "        self.data_format = data_format # (?)\n",
        "        self.activation = kr.activations.get(activation)\n",
        "        self.initializer = kr.initializers.get(initializer)\n",
        "        self.use_bias = use_bias\n",
        "\n",
        "  # função para encontrar o índice dos canais de cores no tensor que armazena as imagens\n",
        "    def _get_input_channel(self, input_shape):\n",
        "        return int(input_shape[-1])\n",
        "\n",
        "  # função para construir a camada e como é o funcionamento interno dela\n",
        "    def build(self, input_shape):\n",
        "        input_shape = tensor_shape.TensorShape(input_shape)\n",
        "        input_channel = self._get_input_channel(input_shape)\n",
        "        input_dim = input_channel // 4 \n",
        "        kernel_shape = self.kernel_size + (input_dim, self.filters)\n",
        "\n",
        "    # definição dos filtros dos canais: real e os três imaginários\n",
        "        self.kernel_r = self.add_weight(\n",
        "            name = 'real_kernel',\n",
        "            shape = kernel_shape,\n",
        "            initializer = self.initializer,\n",
        "            trainable = True,\n",
        "        )\n",
        "    \n",
        "        self.kernel_i = self.add_weight(\n",
        "            name = 'imag_i_kernel',\n",
        "            shape = kernel_shape,\n",
        "            initializer = self.initializer,\n",
        "            trainable = True,\n",
        "        )\n",
        "    \n",
        "        self.kernel_j = self.add_weight(\n",
        "            name='imag_j_kernel',\n",
        "            shape = kernel_shape,\n",
        "            initializer = self.initializer,\n",
        "            trainable = True,\n",
        "        )\n",
        "    \n",
        "        self.kernel_k = self.add_weight(\n",
        "            name='imag_k_kernel',\n",
        "            shape = kernel_shape,\n",
        "            initializer = self.initializer,\n",
        "            trainable = True,\n",
        "        )\n",
        "    \n",
        "        if self.use_bias:\n",
        "            self.bias = self.add_weight(\n",
        "                name = 'bias',\n",
        "                shape = (4 * self.filters),\n",
        "                initializer = \"zeros\",\n",
        "                trainable = True,\n",
        "                dtype = self.dtype)\n",
        "        else:\n",
        "            self.bias = None\n",
        "\n",
        "    \n",
        "  # função que define o trabalho da camada durante o treinamento \n",
        "    def call(self, inputs):\n",
        "\n",
        "    # Aqui geramos os tensores de cada parte (real e três imaginarias) dos hipercomplexos dos parâmetros dos filtros que serão usados para o treino da rede:\n",
        "        F_r = tf.concat([self.kernel_r, self.algebra[0, 0] * self.kernel_i, self.algebra[1, 1] * self.kernel_j, self.algebra[2, 2] * self.kernel_k], axis = 2)\n",
        "        F_i = tf.concat([self.kernel_i, self.kernel_r, self.algebra[1, 2] * self.kernel_k, self.algebra[2, 1] * self.kernel_j], axis = 2)\n",
        "        F_j = tf.concat([self.kernel_j, self.algebra[0, 2] * self.kernel_k, self.kernel_r, self.algebra[2, 0] * self.kernel_i], axis = 2)\n",
        "        F_k = tf.concat([self.kernel_k, self.algebra[0, 1] * self.kernel_j, self.algebra[1, 0] * self.kernel_i, self.kernel_r], axis = 2) \n",
        "\n",
        "    # Aqui vamos gerar os tensores do output \n",
        "        y_r = tf.nn.conv2d(inputs, F_r, padding = self.padding, strides = self.strides)\n",
        "        y_i = tf.nn.conv2d(inputs, F_i, padding = self.padding, strides = self.strides)\n",
        "        y_j = tf.nn.conv2d(inputs, F_j, padding = self.padding, strides = self.strides)\n",
        "        y_k = tf.nn.conv2d(inputs, F_k, padding = self.padding, strides = self.strides)\n",
        "  \n",
        "        outputs = tf.concat([y_r, y_i, y_j, y_k], axis = 3)\n",
        "\n",
        "        if self.use_bias:\n",
        "            outputs = tf.nn.bias_add(outputs, self.bias) \n",
        "            \n",
        "        if self.activation is not None:\n",
        "            outputs = self.activation(outputs) \n",
        "      \n",
        "    \n",
        "        return outputs"
      ],
      "metadata": {
        "id": "RcjBGp2VoWk6"
      },
      "execution_count": null,
      "outputs": []
    },
    {
      "cell_type": "markdown",
      "source": [
        "## Carregando Dataset\n",
        "\n",
        "Nesta seção, iremos carregar o dataset de imagens de glóbulos brancos que será utilizado para o treinamento do modelo. O dataset contém 260 imagens de glóbulos brancos, sendo 130 imagens de linfócitos saudáveis e 130 imagens de linfoblastos. Todas as imagens foram previamente redimensionadas para um tamanho de 100x100 pixels.\n",
        "\n"
      ],
      "metadata": {
        "id": "aqlfhL0ATy5h"
      }
    },
    {
      "cell_type": "code",
      "source": [
        "image_size = (100, 100)\n",
        "path = \"/content/drive/MyDrive/IC - CNN/ALL_IDB2/img/*.tif\"\n",
        "imgs_list = [f for f in glob.glob(path)]\n",
        "N = len(imgs_list)\n",
        "print(\"Number of images:\",N)"
      ],
      "metadata": {
        "colab": {
          "base_uri": "https://localhost:8080/"
        },
        "id": "lxPw0SVVMhmp",
        "outputId": "94c91d28-ca98-401c-f2c0-bac7cdf05fa7"
      },
      "execution_count": null,
      "outputs": [
        {
          "output_type": "stream",
          "name": "stdout",
          "text": [
            "Number of images: 260\n"
          ]
        }
      ]
    },
    {
      "cell_type": "markdown",
      "source": [
        "Para carregar as imagens do dataset, foram criados quatro tensores: dois para as imagens no espaço de cor RGB, um para valores reais e outro para valores hipercomplexos; e outros dois para as imagens no espaço de cor HSV, cada um para as duas álgebras."
      ],
      "metadata": {
        "id": "ydomPZdjzg71"
      }
    },
    {
      "cell_type": "code",
      "source": [
        "Xr_rgb = np.zeros((N, image_size[0], image_size[1], 3))\n",
        "Xq_rgb = np.zeros((N, image_size[0], image_size[1], 4))\n",
        "Xr_hsv = np.zeros((N, image_size[0], image_size[1], 3))\n",
        "Xq_hsv = np.zeros((N, image_size[0], image_size[1], 4))\n",
        "y = np.zeros((N,))"
      ],
      "metadata": {
        "id": "dEdh_x4JlLnC"
      },
      "execution_count": null,
      "outputs": []
    },
    {
      "cell_type": "code",
      "source": [
        "z = np.zeros((image_size[0], image_size[1], 1))\n",
        "for i, img_path in enumerate(imgs_list):\n",
        "\n",
        "    img = cv2.cvtColor(cv2.imread(img_path), cv2.COLOR_BGR2RGB)\n",
        "    img_resized = cv2.resize(img, image_size)\n",
        "\n",
        "    # Imagens RGB\n",
        "    Xr_rgb[i, :, :, :] = img_resized/255\n",
        "    Xq_rgb[i, :, :, :] = np.concatenate([z, img_resized/255], axis=2)\n",
        "    \n",
        "    # Converter para HSV\n",
        "    img_hsv = cv2.cvtColor(img_resized, cv2.COLOR_RGB2HSV)\n",
        "    H = np.reshape((2*np.pi/180)*img_hsv[:, :, 0], (image_size[0], image_size[1], 1))\n",
        "    S = np.reshape(img_hsv[:, :, 1]/255, (image_size[0], image_size[1], 1))\n",
        "    V = np.reshape(img_hsv[:, :, 2]/255, (image_size[0], image_size[1], 1))\n",
        "    \n",
        "    # Imagens com valores reais;\n",
        "    Xr_hsv[i, :, :, :] = np.concatenate([H, S, V], axis=2)\n",
        "\n",
        "    # Imagens com algebra complexa;\n",
        "    Xq_hsv[i, :, :, :] = np.concatenate([np.cos(H)*S, np.sin(H)*S, np.cos(H)*V, np.sin(H)*V], axis=2)\n",
        "    \n",
        "    ind = img_path.find(\".tif\")\n",
        "    y[i] = int(img_path[ind-1])\n",
        "    \n",
        "print(\"Número de linfoblastos:\", int(np.sum(y)))"
      ],
      "metadata": {
        "id": "Yemif8nwlSff",
        "colab": {
          "base_uri": "https://localhost:8080/"
        },
        "outputId": "f001371d-6fc0-4eef-8819-077fe831871b"
      },
      "execution_count": null,
      "outputs": [
        {
          "output_type": "stream",
          "name": "stdout",
          "text": [
            "Número de linfoblastos: 130\n"
          ]
        }
      ]
    },
    {
      "cell_type": "markdown",
      "source": [
        "Plotando dois exemplos de imagens do dataset:"
      ],
      "metadata": {
        "id": "sjuSOu7p0B1L"
      }
    },
    {
      "cell_type": "code",
      "source": [
        "plt.imshow(Xr_rgb[0, :, :, :]);"
      ],
      "metadata": {
        "colab": {
          "base_uri": "https://localhost:8080/",
          "height": 268
        },
        "id": "Y8xUTX_52RZW",
        "outputId": "56a2648a-2fa9-4c58-b456-f1483485323d"
      },
      "execution_count": null,
      "outputs": [
        {
          "output_type": "display_data",
          "data": {
            "text/plain": [
              "<Figure size 432x288 with 1 Axes>"
            ],
            "image/png": "[encoded data removed]"
          },
          "metadata": {
            "needs_background": "light"
          }
        }
      ]
    },
    {
      "cell_type": "code",
      "source": [
        "plt.imshow(Xr_rgb[130, :, :, :]);"
      ],
      "metadata": {
        "colab": {
          "base_uri": "https://localhost:8080/",
          "height": 268
        },
        "id": "ZdcgTmWsdT2W",
        "outputId": "03eaeacb-0e10-4720-ffca-e254d2ac114c"
      },
      "execution_count": null,
      "outputs": [
        {
          "output_type": "display_data",
          "data": {
            "text/plain": [
              "<Figure size 432x288 with 1 Axes>"
            ],
            "image/png": "[encoded data removed]"
          },
          "metadata": {
            "needs_background": "light"
          }
        }
      ]
    },
    {
      "cell_type": "markdown",
      "source": [
        "Nesta etapa, os índices de 0 a 259 são divididos em conjuntos de treinamento e teste, juntamente com o conjunto de alvos correspondentes."
      ],
      "metadata": {
        "id": "r_mnQCh60HIS"
      }
    },
    {
      "cell_type": "code",
      "source": [
        "indtr, indte, ytr, yte = train_test_split(range(260), y, test_size=0.5)"
      ],
      "metadata": {
        "id": "2Hbfh2dM6OZw"
      },
      "execution_count": null,
      "outputs": []
    },
    {
      "cell_type": "markdown",
      "source": [
        "## Rede com Valores Reais\n",
        "\n",
        "Nesta seção, utilizaremos um modelo convencional de redes convolucionais para classificação de imagens. Iremos utilizar os canais de cores RGB para treinar a rede."
      ],
      "metadata": {
        "id": "bApliKziz9i3"
      }
    },
    {
      "cell_type": "code",
      "source": [
        "Xtr = Xr_rgb[indtr]\n",
        "Xte = Xr_rgb[indte]"
      ],
      "metadata": {
        "id": "EiM6uUTPteVY"
      },
      "execution_count": null,
      "outputs": []
    },
    {
      "cell_type": "code",
      "source": [
        "modelo_real = kr.Sequential(\n",
        "    [\n",
        "        kr.layers.Conv2D(8, kernel_size=(3, 3), activation=\"relu\", input_shape=Xtr.shape[1:]),\n",
        "        kr.layers.MaxPooling2D(pool_size=(2, 2)),\n",
        "        kr.layers.Conv2D(16, kernel_size=(3, 3), activation=\"relu\"),\n",
        "        kr.layers.MaxPooling2D(pool_size=(2, 2)),\n",
        "        kr.layers.Conv2D(16, kernel_size=(3, 3), activation=\"relu\"),\n",
        "        kr.layers.MaxPooling2D(pool_size=(2, 2)),\n",
        "        kr.layers.Conv2D(32, kernel_size=(3, 3), activation=\"relu\"),\n",
        "        kr.layers.MaxPooling2D(pool_size=(2, 2)),\n",
        "        kr.layers.Flatten(),\n",
        "        kr.layers.Dropout(0.5),\n",
        "        kr.layers.Dense(1, activation=None)\n",
        "    ]\n",
        ")\n",
        "\n",
        "modelo_real.summary()"
      ],
      "metadata": {
        "colab": {
          "base_uri": "https://localhost:8080/"
        },
        "id": "pdmvAN-H6xQ3",
        "outputId": "d8714af1-0fef-44fb-ad39-20b9f3bf40f8"
      },
      "execution_count": null,
      "outputs": [
        {
          "output_type": "stream",
          "name": "stdout",
          "text": [
            "Model: \"sequential\"\n",
            "_________________________________________________________________\n",
            " Layer (type)                Output Shape              Param #   \n",
            "=================================================================\n",
            " conv2d (Conv2D)             (None, 98, 98, 8)         224       \n",
            "                                                                 \n",
            " max_pooling2d (MaxPooling2D  (None, 49, 49, 8)        0         \n",
            " )                                                               \n",
            "                                                                 \n",
            " conv2d_1 (Conv2D)           (None, 47, 47, 16)        1168      \n",
            "                                                                 \n",
            " max_pooling2d_1 (MaxPooling  (None, 23, 23, 16)       0         \n",
            " 2D)                                                             \n",
            "                                                                 \n",
            " conv2d_2 (Conv2D)           (None, 21, 21, 16)        2320      \n",
            "                                                                 \n",
            " max_pooling2d_2 (MaxPooling  (None, 10, 10, 16)       0         \n",
            " 2D)                                                             \n",
            "                                                                 \n",
            " conv2d_3 (Conv2D)           (None, 8, 8, 32)          4640      \n",
            "                                                                 \n",
            " max_pooling2d_3 (MaxPooling  (None, 4, 4, 32)         0         \n",
            " 2D)                                                             \n",
            "                                                                 \n",
            " flatten (Flatten)           (None, 512)               0         \n",
            "                                                                 \n",
            " dropout (Dropout)           (None, 512)               0         \n",
            "                                                                 \n",
            " dense (Dense)               (None, 1)                 513       \n",
            "                                                                 \n",
            "=================================================================\n",
            "Total params: 8,865\n",
            "Trainable params: 8,865\n",
            "Non-trainable params: 0\n",
            "_________________________________________________________________\n"
          ]
        }
      ]
    },
    {
      "cell_type": "markdown",
      "source": [
        "Aqui, especificamos o número de épocas para treinar o modelo. Utilizamos também a classe keras.preprocessing.image.ImageDataGenerator que é capaz de aplicar uma série de transformações nas imagens, criando variações artificiais. Essas transformações incluem rotações, flutuações horizontais e verticais, zoom in e out, mudanças de brilho, entre outras. O objetivo é gerar uma variedade maior de exemplos para o modelo aprender, evitando o overfitting e melhorando a generalização.\n",
        "\n",
        "Em seguida, compilamos o modelo utilizando o otimizador Adam e a função de perda Binary Cross Entropy.\n",
        "\n",
        "Por fim, realizamos o ajuste do modelo utilizando o conjunto de treinamento."
      ],
      "metadata": {
        "id": "rvlG_2Op0pMT"
      }
    },
    {
      "cell_type": "code",
      "source": [
        "n_epocas = 150\n",
        "\n",
        "# Aumento de conjunto de treino utilizando apenas giro vertical e horizontal\n",
        "datagen = kr.preprocessing.image.ImageDataGenerator(\n",
        "    horizontal_flip=True,\n",
        "    vertical_flip=True)\n",
        "datagen.fit(Xtr)\n",
        "it = datagen.flow(Xtr, ytr, batch_size=32)\n",
        "batch = it.next()\n",
        "\n",
        "tf.keras.backend.clear_session()\n",
        "\n",
        "modelo_real.compile(optimizer='adam',\n",
        "      loss=kr.losses.BinaryCrossentropy(from_logits=True),\n",
        "      metrics=[kr.metrics.BinaryAccuracy()])\n",
        "\n",
        "hist = modelo_real.fit(datagen.flow(Xtr, ytr, batch_size=32), epochs=n_epocas, verbose=1, validation_data=(Xte, yte))\n",
        "\n",
        "Acc_tr = accuracy_score(ytr, modelo_real.predict(Xtr).flatten()>=0)\n",
        "Acc_te = accuracy_score(yte, modelo_real.predict(Xte).flatten()>=0)\n",
        "\n",
        "print(\"Real-valued Accuracy (Train/Test) = %2.2f/%2.2f\" % (Acc_tr, Acc_te))"
      ],
      "metadata": {
        "colab": {
          "base_uri": "https://localhost:8080/"
        },
        "id": "4hudYNHbu0b5",
        "outputId": "6581cdaa-3fb9-490e-d56b-8cc54646f745"
      },
      "execution_count": null,
      "outputs": [
        {
          "output_type": "stream",
          "name": "stdout",
          "text": [
            "Epoch 1/150\n",
            "5/5 [==============================] - 1s 105ms/step - loss: 0.6973 - binary_accuracy: 0.5077 - val_loss: 0.6907 - val_binary_accuracy: 0.4923\n",
            "Epoch 2/150\n",
            "5/5 [==============================] - 0s 37ms/step - loss: 0.6883 - binary_accuracy: 0.5077 - val_loss: 0.6874 - val_binary_accuracy: 0.4923\n",
            "Epoch 3/150\n",
            "5/5 [==============================] - 0s 35ms/step - loss: 0.6858 - binary_accuracy: 0.5077 - val_loss: 0.6859 - val_binary_accuracy: 0.4923\n",
            "Epoch 4/150\n",
            "5/5 [==============================] - 0s 40ms/step - loss: 0.6879 - binary_accuracy: 0.5077 - val_loss: 0.6837 - val_binary_accuracy: 0.4923\n",
            "Epoch 5/150\n",
            "5/5 [==============================] - 0s 36ms/step - loss: 0.6780 - binary_accuracy: 0.5077 - val_loss: 0.6769 - val_binary_accuracy: 0.4923\n",
            "Epoch 6/150\n",
            "5/5 [==============================] - 0s 38ms/step - loss: 0.6748 - binary_accuracy: 0.5077 - val_loss: 0.6701 - val_binary_accuracy: 0.4923\n",
            "Epoch 7/150\n",
            "5/5 [==============================] - 0s 33ms/step - loss: 0.6661 - binary_accuracy: 0.5077 - val_loss: 0.6620 - val_binary_accuracy: 0.4923\n",
            "Epoch 8/150\n",
            "5/5 [==============================] - 0s 25ms/step - loss: 0.6444 - binary_accuracy: 0.5077 - val_loss: 0.6463 - val_binary_accuracy: 0.4923\n",
            "Epoch 9/150\n",
            "5/5 [==============================] - 0s 29ms/step - loss: 0.6384 - binary_accuracy: 0.5462 - val_loss: 0.6221 - val_binary_accuracy: 0.5154\n",
            "Epoch 10/150\n",
            "5/5 [==============================] - 0s 36ms/step - loss: 0.5992 - binary_accuracy: 0.5538 - val_loss: 0.6321 - val_binary_accuracy: 0.5000\n",
            "Epoch 11/150\n",
            "5/5 [==============================] - 0s 19ms/step - loss: 0.5900 - binary_accuracy: 0.5615 - val_loss: 0.5699 - val_binary_accuracy: 0.7231\n",
            "Epoch 12/150\n",
            "5/5 [==============================] - 0s 20ms/step - loss: 0.7219 - binary_accuracy: 0.6231 - val_loss: 0.6362 - val_binary_accuracy: 0.7308\n",
            "Epoch 13/150\n",
            "5/5 [==============================] - 0s 19ms/step - loss: 0.5860 - binary_accuracy: 0.7000 - val_loss: 0.6171 - val_binary_accuracy: 0.5077\n",
            "Epoch 14/150\n",
            "5/5 [==============================] - 0s 20ms/step - loss: 0.6218 - binary_accuracy: 0.5154 - val_loss: 0.6037 - val_binary_accuracy: 0.5077\n",
            "Epoch 15/150\n",
            "5/5 [==============================] - 0s 18ms/step - loss: 0.5835 - binary_accuracy: 0.5923 - val_loss: 0.5733 - val_binary_accuracy: 0.6462\n",
            "Epoch 16/150\n",
            "5/5 [==============================] - 0s 19ms/step - loss: 0.5869 - binary_accuracy: 0.6923 - val_loss: 0.5955 - val_binary_accuracy: 0.8308\n",
            "Epoch 17/150\n",
            "5/5 [==============================] - 0s 20ms/step - loss: 0.5628 - binary_accuracy: 0.7923 - val_loss: 0.5509 - val_binary_accuracy: 0.6000\n",
            "Epoch 18/150\n",
            "5/5 [==============================] - 0s 18ms/step - loss: 0.5699 - binary_accuracy: 0.6462 - val_loss: 0.5473 - val_binary_accuracy: 0.5769\n",
            "Epoch 19/150\n",
            "5/5 [==============================] - 0s 18ms/step - loss: 0.5256 - binary_accuracy: 0.7000 - val_loss: 0.5356 - val_binary_accuracy: 0.7846\n",
            "Epoch 20/150\n",
            "5/5 [==============================] - 0s 18ms/step - loss: 0.5011 - binary_accuracy: 0.7769 - val_loss: 0.5167 - val_binary_accuracy: 0.6077\n",
            "Epoch 21/150\n",
            "5/5 [==============================] - 0s 19ms/step - loss: 0.5121 - binary_accuracy: 0.6462 - val_loss: 0.5484 - val_binary_accuracy: 0.5769\n",
            "Epoch 22/150\n",
            "5/5 [==============================] - 0s 19ms/step - loss: 0.5253 - binary_accuracy: 0.7231 - val_loss: 0.5577 - val_binary_accuracy: 0.7923\n",
            "Epoch 23/150\n",
            "5/5 [==============================] - 0s 19ms/step - loss: 0.5266 - binary_accuracy: 0.7462 - val_loss: 0.4940 - val_binary_accuracy: 0.6846\n",
            "Epoch 24/150\n",
            "5/5 [==============================] - 0s 18ms/step - loss: 0.4767 - binary_accuracy: 0.7769 - val_loss: 0.4984 - val_binary_accuracy: 0.6462\n",
            "Epoch 25/150\n",
            "5/5 [==============================] - 0s 18ms/step - loss: 0.4814 - binary_accuracy: 0.7154 - val_loss: 0.5067 - val_binary_accuracy: 0.6077\n",
            "Epoch 26/150\n",
            "5/5 [==============================] - 0s 18ms/step - loss: 0.4632 - binary_accuracy: 0.7462 - val_loss: 0.4877 - val_binary_accuracy: 0.8231\n",
            "Epoch 27/150\n",
            "5/5 [==============================] - 0s 23ms/step - loss: 0.5169 - binary_accuracy: 0.7769 - val_loss: 0.4669 - val_binary_accuracy: 0.8154\n",
            "Epoch 28/150\n",
            "5/5 [==============================] - 0s 19ms/step - loss: 0.4497 - binary_accuracy: 0.7769 - val_loss: 0.4787 - val_binary_accuracy: 0.6692\n",
            "Epoch 29/150\n",
            "5/5 [==============================] - 0s 19ms/step - loss: 0.4821 - binary_accuracy: 0.7538 - val_loss: 0.4385 - val_binary_accuracy: 0.7692\n",
            "Epoch 30/150\n",
            "5/5 [==============================] - 0s 19ms/step - loss: 0.4608 - binary_accuracy: 0.7462 - val_loss: 0.4389 - val_binary_accuracy: 0.8077\n",
            "Epoch 31/150\n",
            "5/5 [==============================] - 0s 20ms/step - loss: 0.4804 - binary_accuracy: 0.8000 - val_loss: 0.4254 - val_binary_accuracy: 0.8154\n",
            "Epoch 32/150\n",
            "5/5 [==============================] - 0s 19ms/step - loss: 0.4102 - binary_accuracy: 0.7692 - val_loss: 0.4244 - val_binary_accuracy: 0.8154\n",
            "Epoch 33/150\n",
            "5/5 [==============================] - 0s 18ms/step - loss: 0.4544 - binary_accuracy: 0.7846 - val_loss: 0.5286 - val_binary_accuracy: 0.6000\n",
            "Epoch 34/150\n",
            "5/5 [==============================] - 0s 18ms/step - loss: 0.5496 - binary_accuracy: 0.6769 - val_loss: 0.4926 - val_binary_accuracy: 0.6385\n",
            "Epoch 35/150\n",
            "5/5 [==============================] - 0s 21ms/step - loss: 0.4851 - binary_accuracy: 0.6923 - val_loss: 0.4359 - val_binary_accuracy: 0.8077\n",
            "Epoch 36/150\n",
            "5/5 [==============================] - 0s 18ms/step - loss: 0.4133 - binary_accuracy: 0.8154 - val_loss: 0.4572 - val_binary_accuracy: 0.8308\n",
            "Epoch 37/150\n",
            "5/5 [==============================] - 0s 19ms/step - loss: 0.4522 - binary_accuracy: 0.7846 - val_loss: 0.4387 - val_binary_accuracy: 0.8462\n",
            "Epoch 38/150\n",
            "5/5 [==============================] - 0s 21ms/step - loss: 0.5322 - binary_accuracy: 0.6846 - val_loss: 0.5567 - val_binary_accuracy: 0.5846\n",
            "Epoch 39/150\n",
            "5/5 [==============================] - 0s 19ms/step - loss: 0.4555 - binary_accuracy: 0.7615 - val_loss: 0.4150 - val_binary_accuracy: 0.8077\n",
            "Epoch 40/150\n",
            "5/5 [==============================] - 0s 20ms/step - loss: 0.5688 - binary_accuracy: 0.7462 - val_loss: 0.6079 - val_binary_accuracy: 0.7154\n",
            "Epoch 41/150\n",
            "5/5 [==============================] - 0s 21ms/step - loss: 0.5454 - binary_accuracy: 0.7846 - val_loss: 0.4699 - val_binary_accuracy: 0.8462\n",
            "Epoch 42/150\n",
            "5/5 [==============================] - 0s 18ms/step - loss: 0.4426 - binary_accuracy: 0.7846 - val_loss: 0.5101 - val_binary_accuracy: 0.6077\n",
            "Epoch 43/150\n",
            "5/5 [==============================] - 0s 29ms/step - loss: 0.5057 - binary_accuracy: 0.6538 - val_loss: 0.4917 - val_binary_accuracy: 0.6385\n",
            "Epoch 44/150\n",
            "5/5 [==============================] - 0s 20ms/step - loss: 0.4191 - binary_accuracy: 0.7846 - val_loss: 0.4363 - val_binary_accuracy: 0.8385\n",
            "Epoch 45/150\n",
            "5/5 [==============================] - 0s 18ms/step - loss: 0.4466 - binary_accuracy: 0.8308 - val_loss: 0.4169 - val_binary_accuracy: 0.8231\n",
            "Epoch 46/150\n",
            "5/5 [==============================] - 0s 20ms/step - loss: 0.4144 - binary_accuracy: 0.8231 - val_loss: 0.4074 - val_binary_accuracy: 0.8077\n",
            "Epoch 47/150\n",
            "5/5 [==============================] - 0s 19ms/step - loss: 0.3695 - binary_accuracy: 0.8538 - val_loss: 0.4189 - val_binary_accuracy: 0.7462\n",
            "Epoch 48/150\n",
            "5/5 [==============================] - 0s 29ms/step - loss: 0.3949 - binary_accuracy: 0.7769 - val_loss: 0.5125 - val_binary_accuracy: 0.6385\n",
            "Epoch 49/150\n",
            "5/5 [==============================] - 0s 18ms/step - loss: 0.4277 - binary_accuracy: 0.7615 - val_loss: 0.3953 - val_binary_accuracy: 0.8385\n",
            "Epoch 50/150\n",
            "5/5 [==============================] - 0s 19ms/step - loss: 0.4137 - binary_accuracy: 0.8000 - val_loss: 0.3948 - val_binary_accuracy: 0.8538\n",
            "Epoch 51/150\n",
            "5/5 [==============================] - 0s 21ms/step - loss: 0.3663 - binary_accuracy: 0.8231 - val_loss: 0.3878 - val_binary_accuracy: 0.7846\n",
            "Epoch 52/150\n",
            "5/5 [==============================] - 0s 18ms/step - loss: 0.3549 - binary_accuracy: 0.8154 - val_loss: 0.4094 - val_binary_accuracy: 0.7538\n",
            "Epoch 53/150\n",
            "5/5 [==============================] - 0s 19ms/step - loss: 0.3867 - binary_accuracy: 0.8231 - val_loss: 0.3686 - val_binary_accuracy: 0.8231\n",
            "Epoch 54/150\n",
            "5/5 [==============================] - 0s 18ms/step - loss: 0.3616 - binary_accuracy: 0.8385 - val_loss: 0.3745 - val_binary_accuracy: 0.7923\n",
            "Epoch 55/150\n",
            "5/5 [==============================] - 0s 20ms/step - loss: 0.4069 - binary_accuracy: 0.8077 - val_loss: 0.4279 - val_binary_accuracy: 0.7462\n",
            "Epoch 56/150\n",
            "5/5 [==============================] - 0s 20ms/step - loss: 0.5419 - binary_accuracy: 0.7538 - val_loss: 0.6793 - val_binary_accuracy: 0.7000\n",
            "Epoch 57/150\n",
            "5/5 [==============================] - 0s 18ms/step - loss: 0.5801 - binary_accuracy: 0.7462 - val_loss: 0.3810 - val_binary_accuracy: 0.8154\n",
            "Epoch 58/150\n",
            "5/5 [==============================] - 0s 19ms/step - loss: 0.4903 - binary_accuracy: 0.7000 - val_loss: 0.7385 - val_binary_accuracy: 0.5462\n",
            "Epoch 59/150\n",
            "5/5 [==============================] - 0s 22ms/step - loss: 0.5171 - binary_accuracy: 0.6769 - val_loss: 0.4386 - val_binary_accuracy: 0.7462\n",
            "Epoch 60/150\n",
            "5/5 [==============================] - 0s 20ms/step - loss: 0.3917 - binary_accuracy: 0.8231 - val_loss: 0.4475 - val_binary_accuracy: 0.8308\n",
            "Epoch 61/150\n",
            "5/5 [==============================] - 0s 18ms/step - loss: 0.4812 - binary_accuracy: 0.7923 - val_loss: 0.4720 - val_binary_accuracy: 0.8385\n",
            "Epoch 62/150\n",
            "5/5 [==============================] - 0s 19ms/step - loss: 0.4248 - binary_accuracy: 0.8462 - val_loss: 0.4155 - val_binary_accuracy: 0.8538\n",
            "Epoch 63/150\n",
            "5/5 [==============================] - 0s 18ms/step - loss: 0.4234 - binary_accuracy: 0.7923 - val_loss: 0.4386 - val_binary_accuracy: 0.6923\n",
            "Epoch 64/150\n",
            "5/5 [==============================] - 0s 20ms/step - loss: 0.4096 - binary_accuracy: 0.8077 - val_loss: 0.3815 - val_binary_accuracy: 0.8615\n",
            "Epoch 65/150\n",
            "5/5 [==============================] - 0s 20ms/step - loss: 0.3764 - binary_accuracy: 0.8615 - val_loss: 0.3737 - val_binary_accuracy: 0.8231\n",
            "Epoch 66/150\n",
            "5/5 [==============================] - 0s 19ms/step - loss: 0.3413 - binary_accuracy: 0.8692 - val_loss: 0.3849 - val_binary_accuracy: 0.8154\n",
            "Epoch 67/150\n",
            "5/5 [==============================] - 0s 20ms/step - loss: 0.3886 - binary_accuracy: 0.8077 - val_loss: 0.3502 - val_binary_accuracy: 0.8231\n",
            "Epoch 68/150\n",
            "5/5 [==============================] - 0s 21ms/step - loss: 0.3463 - binary_accuracy: 0.8923 - val_loss: 0.3519 - val_binary_accuracy: 0.8385\n",
            "Epoch 69/150\n",
            "5/5 [==============================] - 0s 19ms/step - loss: 0.3406 - binary_accuracy: 0.9000 - val_loss: 0.3415 - val_binary_accuracy: 0.8385\n",
            "Epoch 70/150\n",
            "5/5 [==============================] - 0s 19ms/step - loss: 0.3194 - binary_accuracy: 0.8154 - val_loss: 0.3739 - val_binary_accuracy: 0.8154\n",
            "Epoch 71/150\n",
            "5/5 [==============================] - 0s 21ms/step - loss: 0.3604 - binary_accuracy: 0.8231 - val_loss: 0.3391 - val_binary_accuracy: 0.8385\n",
            "Epoch 72/150\n",
            "5/5 [==============================] - 0s 20ms/step - loss: 0.3238 - binary_accuracy: 0.8385 - val_loss: 0.3010 - val_binary_accuracy: 0.8462\n",
            "Epoch 73/150\n",
            "5/5 [==============================] - 0s 20ms/step - loss: 0.2788 - binary_accuracy: 0.8846 - val_loss: 0.3013 - val_binary_accuracy: 0.8923\n",
            "Epoch 74/150\n",
            "5/5 [==============================] - 0s 19ms/step - loss: 0.2474 - binary_accuracy: 0.9308 - val_loss: 0.2878 - val_binary_accuracy: 0.8692\n",
            "Epoch 75/150\n",
            "5/5 [==============================] - 0s 18ms/step - loss: 0.2879 - binary_accuracy: 0.8692 - val_loss: 0.3321 - val_binary_accuracy: 0.8462\n",
            "Epoch 76/150\n",
            "5/5 [==============================] - 0s 21ms/step - loss: 0.3036 - binary_accuracy: 0.8077 - val_loss: 0.3410 - val_binary_accuracy: 0.8385\n",
            "Epoch 77/150\n",
            "5/5 [==============================] - 0s 19ms/step - loss: 0.3343 - binary_accuracy: 0.8385 - val_loss: 0.3876 - val_binary_accuracy: 0.8462\n",
            "Epoch 78/150\n",
            "5/5 [==============================] - 0s 18ms/step - loss: 0.4103 - binary_accuracy: 0.8154 - val_loss: 0.3263 - val_binary_accuracy: 0.8615\n",
            "Epoch 79/150\n",
            "5/5 [==============================] - 0s 19ms/step - loss: 0.3199 - binary_accuracy: 0.8692 - val_loss: 0.2567 - val_binary_accuracy: 0.9000\n",
            "Epoch 80/150\n",
            "5/5 [==============================] - 0s 22ms/step - loss: 0.2480 - binary_accuracy: 0.9077 - val_loss: 0.3041 - val_binary_accuracy: 0.8538\n",
            "Epoch 81/150\n",
            "5/5 [==============================] - 0s 20ms/step - loss: 0.2853 - binary_accuracy: 0.8308 - val_loss: 0.3876 - val_binary_accuracy: 0.8154\n",
            "Epoch 82/150\n",
            "5/5 [==============================] - 0s 29ms/step - loss: 0.2839 - binary_accuracy: 0.7923 - val_loss: 0.2430 - val_binary_accuracy: 0.8769\n",
            "Epoch 83/150\n",
            "5/5 [==============================] - 0s 31ms/step - loss: 0.2055 - binary_accuracy: 0.9231 - val_loss: 0.2189 - val_binary_accuracy: 0.9000\n",
            "Epoch 84/150\n",
            "5/5 [==============================] - 0s 19ms/step - loss: 0.1951 - binary_accuracy: 0.9385 - val_loss: 0.2199 - val_binary_accuracy: 0.9077\n",
            "Epoch 85/150\n",
            "5/5 [==============================] - 0s 20ms/step - loss: 0.2127 - binary_accuracy: 0.9462 - val_loss: 0.1965 - val_binary_accuracy: 0.9000\n",
            "Epoch 86/150\n",
            "5/5 [==============================] - 0s 24ms/step - loss: 0.1597 - binary_accuracy: 0.9462 - val_loss: 0.2092 - val_binary_accuracy: 0.8769\n",
            "Epoch 87/150\n",
            "5/5 [==============================] - 0s 39ms/step - loss: 0.1758 - binary_accuracy: 0.9154 - val_loss: 0.1858 - val_binary_accuracy: 0.9077\n",
            "Epoch 88/150\n",
            "5/5 [==============================] - 0s 26ms/step - loss: 0.1605 - binary_accuracy: 0.9462 - val_loss: 0.1794 - val_binary_accuracy: 0.9077\n",
            "Epoch 89/150\n",
            "5/5 [==============================] - 0s 35ms/step - loss: 0.1648 - binary_accuracy: 0.9462 - val_loss: 0.1731 - val_binary_accuracy: 0.9154\n",
            "Epoch 90/150\n",
            "5/5 [==============================] - 0s 33ms/step - loss: 0.1630 - binary_accuracy: 0.9308 - val_loss: 0.1867 - val_binary_accuracy: 0.9000\n",
            "Epoch 91/150\n",
            "5/5 [==============================] - 0s 35ms/step - loss: 0.1788 - binary_accuracy: 0.9077 - val_loss: 0.1529 - val_binary_accuracy: 0.9231\n",
            "Epoch 92/150\n",
            "5/5 [==============================] - 0s 37ms/step - loss: 0.1417 - binary_accuracy: 0.9615 - val_loss: 0.1586 - val_binary_accuracy: 0.9231\n",
            "Epoch 93/150\n",
            "5/5 [==============================] - 0s 35ms/step - loss: 0.1615 - binary_accuracy: 0.9308 - val_loss: 0.1451 - val_binary_accuracy: 0.9308\n",
            "Epoch 94/150\n",
            "5/5 [==============================] - 0s 23ms/step - loss: 0.1268 - binary_accuracy: 0.9462 - val_loss: 0.1350 - val_binary_accuracy: 0.9385\n",
            "Epoch 95/150\n",
            "5/5 [==============================] - 0s 30ms/step - loss: 0.1319 - binary_accuracy: 0.9538 - val_loss: 0.1310 - val_binary_accuracy: 0.9231\n",
            "Epoch 96/150\n",
            "5/5 [==============================] - 0s 34ms/step - loss: 0.0928 - binary_accuracy: 0.9615 - val_loss: 0.1882 - val_binary_accuracy: 0.8846\n",
            "Epoch 97/150\n",
            "5/5 [==============================] - 0s 18ms/step - loss: 0.2421 - binary_accuracy: 0.9000 - val_loss: 0.1220 - val_binary_accuracy: 0.9308\n",
            "Epoch 98/150\n",
            "5/5 [==============================] - 0s 19ms/step - loss: 0.1973 - binary_accuracy: 0.9308 - val_loss: 0.3335 - val_binary_accuracy: 0.8846\n",
            "Epoch 99/150\n",
            "5/5 [==============================] - 0s 19ms/step - loss: 0.3338 - binary_accuracy: 0.8462 - val_loss: 0.2082 - val_binary_accuracy: 0.9077\n",
            "Epoch 100/150\n",
            "5/5 [==============================] - 0s 18ms/step - loss: 0.1494 - binary_accuracy: 0.9538 - val_loss: 0.1960 - val_binary_accuracy: 0.8769\n",
            "Epoch 101/150\n",
            "5/5 [==============================] - 0s 21ms/step - loss: 0.2477 - binary_accuracy: 0.8538 - val_loss: 0.2131 - val_binary_accuracy: 0.8692\n",
            "Epoch 102/150\n",
            "5/5 [==============================] - 0s 19ms/step - loss: 0.1885 - binary_accuracy: 0.9231 - val_loss: 0.1513 - val_binary_accuracy: 0.9385\n",
            "Epoch 103/150\n",
            "5/5 [==============================] - 0s 30ms/step - loss: 0.1261 - binary_accuracy: 0.9692 - val_loss: 0.1560 - val_binary_accuracy: 0.9308\n",
            "Epoch 104/150\n",
            "5/5 [==============================] - 0s 18ms/step - loss: 0.1212 - binary_accuracy: 0.9615 - val_loss: 0.1239 - val_binary_accuracy: 0.9385\n",
            "Epoch 105/150\n",
            "5/5 [==============================] - 0s 18ms/step - loss: 0.1166 - binary_accuracy: 0.9769 - val_loss: 0.1174 - val_binary_accuracy: 0.9231\n",
            "Epoch 106/150\n",
            "5/5 [==============================] - 0s 20ms/step - loss: 0.1213 - binary_accuracy: 0.9462 - val_loss: 0.1229 - val_binary_accuracy: 0.9308\n",
            "Epoch 107/150\n",
            "5/5 [==============================] - 0s 19ms/step - loss: 0.0938 - binary_accuracy: 0.9615 - val_loss: 0.1102 - val_binary_accuracy: 0.9462\n",
            "Epoch 108/150\n",
            "5/5 [==============================] - 0s 20ms/step - loss: 0.1087 - binary_accuracy: 0.9615 - val_loss: 0.1089 - val_binary_accuracy: 0.9538\n",
            "Epoch 109/150\n",
            "5/5 [==============================] - 0s 18ms/step - loss: 0.0984 - binary_accuracy: 0.9615 - val_loss: 0.1073 - val_binary_accuracy: 0.9462\n",
            "Epoch 110/150\n",
            "5/5 [==============================] - 0s 21ms/step - loss: 0.0951 - binary_accuracy: 0.9538 - val_loss: 0.1082 - val_binary_accuracy: 0.9308\n",
            "Epoch 111/150\n",
            "5/5 [==============================] - 0s 18ms/step - loss: 0.1268 - binary_accuracy: 0.9385 - val_loss: 0.1059 - val_binary_accuracy: 0.9308\n",
            "Epoch 112/150\n",
            "5/5 [==============================] - 0s 18ms/step - loss: 0.0763 - binary_accuracy: 0.9692 - val_loss: 0.1041 - val_binary_accuracy: 0.9308\n",
            "Epoch 113/150\n",
            "5/5 [==============================] - 0s 20ms/step - loss: 0.0589 - binary_accuracy: 0.9769 - val_loss: 0.0926 - val_binary_accuracy: 0.9538\n",
            "Epoch 114/150\n",
            "5/5 [==============================] - 0s 17ms/step - loss: 0.0805 - binary_accuracy: 0.9769 - val_loss: 0.0893 - val_binary_accuracy: 0.9462\n",
            "Epoch 115/150\n",
            "5/5 [==============================] - 0s 18ms/step - loss: 0.0850 - binary_accuracy: 0.9692 - val_loss: 0.1168 - val_binary_accuracy: 0.9385\n",
            "Epoch 116/150\n",
            "5/5 [==============================] - 0s 19ms/step - loss: 0.0669 - binary_accuracy: 0.9615 - val_loss: 0.0850 - val_binary_accuracy: 0.9538\n",
            "Epoch 117/150\n",
            "5/5 [==============================] - 0s 20ms/step - loss: 0.1214 - binary_accuracy: 0.9462 - val_loss: 0.0819 - val_binary_accuracy: 0.9538\n",
            "Epoch 118/150\n",
            "5/5 [==============================] - 0s 22ms/step - loss: 0.0719 - binary_accuracy: 0.9538 - val_loss: 0.0814 - val_binary_accuracy: 0.9615\n",
            "Epoch 119/150\n",
            "5/5 [==============================] - 0s 21ms/step - loss: 0.0713 - binary_accuracy: 0.9692 - val_loss: 0.0774 - val_binary_accuracy: 0.9538\n",
            "Epoch 120/150\n",
            "5/5 [==============================] - 0s 18ms/step - loss: 0.0783 - binary_accuracy: 0.9692 - val_loss: 0.0807 - val_binary_accuracy: 0.9385\n",
            "Epoch 121/150\n",
            "5/5 [==============================] - 0s 20ms/step - loss: 0.0702 - binary_accuracy: 0.9846 - val_loss: 0.0746 - val_binary_accuracy: 0.9615\n",
            "Epoch 122/150\n",
            "5/5 [==============================] - 0s 18ms/step - loss: 0.0848 - binary_accuracy: 0.9615 - val_loss: 0.0725 - val_binary_accuracy: 0.9692\n",
            "Epoch 123/150\n",
            "5/5 [==============================] - 0s 21ms/step - loss: 0.0694 - binary_accuracy: 0.9769 - val_loss: 0.0759 - val_binary_accuracy: 0.9462\n",
            "Epoch 124/150\n",
            "5/5 [==============================] - 0s 21ms/step - loss: 0.0742 - binary_accuracy: 0.9615 - val_loss: 0.0877 - val_binary_accuracy: 0.9615\n",
            "Epoch 125/150\n",
            "5/5 [==============================] - 0s 30ms/step - loss: 0.1024 - binary_accuracy: 0.9615 - val_loss: 0.0941 - val_binary_accuracy: 0.9538\n",
            "Epoch 126/150\n",
            "5/5 [==============================] - 0s 19ms/step - loss: 0.0755 - binary_accuracy: 0.9538 - val_loss: 0.1113 - val_binary_accuracy: 0.9308\n",
            "Epoch 127/150\n",
            "5/5 [==============================] - 0s 22ms/step - loss: 0.0613 - binary_accuracy: 0.9615 - val_loss: 0.0759 - val_binary_accuracy: 0.9692\n",
            "Epoch 128/150\n",
            "5/5 [==============================] - 0s 18ms/step - loss: 0.0685 - binary_accuracy: 0.9615 - val_loss: 0.0873 - val_binary_accuracy: 0.9615\n",
            "Epoch 129/150\n",
            "5/5 [==============================] - 0s 20ms/step - loss: 0.0813 - binary_accuracy: 0.9615 - val_loss: 0.0970 - val_binary_accuracy: 0.9692\n",
            "Epoch 130/150\n",
            "5/5 [==============================] - 0s 19ms/step - loss: 0.1287 - binary_accuracy: 0.9538 - val_loss: 0.1064 - val_binary_accuracy: 0.9615\n",
            "Epoch 131/150\n",
            "5/5 [==============================] - 0s 18ms/step - loss: 0.0783 - binary_accuracy: 0.9692 - val_loss: 0.0850 - val_binary_accuracy: 0.9385\n",
            "Epoch 132/150\n",
            "5/5 [==============================] - 0s 21ms/step - loss: 0.1234 - binary_accuracy: 0.9538 - val_loss: 0.0619 - val_binary_accuracy: 0.9615\n",
            "Epoch 133/150\n",
            "5/5 [==============================] - 0s 19ms/step - loss: 0.0561 - binary_accuracy: 0.9769 - val_loss: 0.0845 - val_binary_accuracy: 0.9615\n",
            "Epoch 134/150\n",
            "5/5 [==============================] - 0s 19ms/step - loss: 0.1007 - binary_accuracy: 0.9692 - val_loss: 0.4902 - val_binary_accuracy: 0.8385\n",
            "Epoch 135/150\n",
            "5/5 [==============================] - 0s 18ms/step - loss: 0.3572 - binary_accuracy: 0.8615 - val_loss: 0.0890 - val_binary_accuracy: 0.9615\n",
            "Epoch 136/150\n",
            "5/5 [==============================] - 0s 22ms/step - loss: 0.2240 - binary_accuracy: 0.9154 - val_loss: 0.2400 - val_binary_accuracy: 0.9077\n",
            "Epoch 137/150\n",
            "5/5 [==============================] - 0s 21ms/step - loss: 0.1648 - binary_accuracy: 0.9462 - val_loss: 0.1766 - val_binary_accuracy: 0.8923\n",
            "Epoch 138/150\n",
            "5/5 [==============================] - 0s 18ms/step - loss: 0.2043 - binary_accuracy: 0.9000 - val_loss: 0.1826 - val_binary_accuracy: 0.8923\n",
            "Epoch 139/150\n",
            "5/5 [==============================] - 0s 19ms/step - loss: 0.0892 - binary_accuracy: 0.9615 - val_loss: 0.1059 - val_binary_accuracy: 0.9462\n",
            "Epoch 140/150\n",
            "5/5 [==============================] - 0s 19ms/step - loss: 0.0648 - binary_accuracy: 0.9769 - val_loss: 0.0949 - val_binary_accuracy: 0.9692\n",
            "Epoch 141/150\n",
            "5/5 [==============================] - 0s 19ms/step - loss: 0.1027 - binary_accuracy: 0.9769 - val_loss: 0.0881 - val_binary_accuracy: 0.9615\n",
            "Epoch 142/150\n",
            "5/5 [==============================] - 0s 20ms/step - loss: 0.0798 - binary_accuracy: 0.9769 - val_loss: 0.0804 - val_binary_accuracy: 0.9692\n",
            "Epoch 143/150\n",
            "5/5 [==============================] - 0s 19ms/step - loss: 0.0831 - binary_accuracy: 0.9692 - val_loss: 0.0760 - val_binary_accuracy: 0.9462\n",
            "Epoch 144/150\n",
            "5/5 [==============================] - 0s 20ms/step - loss: 0.0873 - binary_accuracy: 0.9692 - val_loss: 0.0893 - val_binary_accuracy: 0.9385\n",
            "Epoch 145/150\n",
            "5/5 [==============================] - 0s 19ms/step - loss: 0.0638 - binary_accuracy: 0.9769 - val_loss: 0.0733 - val_binary_accuracy: 0.9462\n",
            "Epoch 146/150\n",
            "5/5 [==============================] - 0s 18ms/step - loss: 0.0738 - binary_accuracy: 0.9769 - val_loss: 0.0709 - val_binary_accuracy: 0.9538\n",
            "Epoch 147/150\n",
            "5/5 [==============================] - 0s 20ms/step - loss: 0.0700 - binary_accuracy: 0.9538 - val_loss: 0.0647 - val_binary_accuracy: 0.9462\n",
            "Epoch 148/150\n",
            "5/5 [==============================] - 0s 18ms/step - loss: 0.0305 - binary_accuracy: 1.0000 - val_loss: 0.0628 - val_binary_accuracy: 0.9615\n",
            "Epoch 149/150\n",
            "5/5 [==============================] - 0s 19ms/step - loss: 0.0683 - binary_accuracy: 0.9692 - val_loss: 0.0608 - val_binary_accuracy: 0.9462\n",
            "Epoch 150/150\n",
            "5/5 [==============================] - 0s 20ms/step - loss: 0.0673 - binary_accuracy: 0.9615 - val_loss: 0.0605 - val_binary_accuracy: 0.9462\n",
            "5/5 [==============================] - 0s 4ms/step\n",
            "5/5 [==============================] - 0s 4ms/step\n",
            "Real-valued Accuracy (Train/Test) = 0.99/0.98\n"
          ]
        }
      ]
    },
    {
      "cell_type": "markdown",
      "source": [
        "Matriz de confusão dos resultados:"
      ],
      "metadata": {
        "id": "BQvTdje611ah"
      }
    },
    {
      "cell_type": "code",
      "source": [
        "confusion_matrix(yte, modelo_real.predict(Xte).flatten()>=0)"
      ],
      "metadata": {
        "colab": {
          "base_uri": "https://localhost:8080/"
        },
        "id": "jxlcfDAZ5lb5",
        "outputId": "563ab773-8635-4077-cc6b-a193fef6cc72"
      },
      "execution_count": null,
      "outputs": [
        {
          "output_type": "stream",
          "name": "stdout",
          "text": [
            "5/5 [==============================] - 0s 5ms/step\n"
          ]
        },
        {
          "output_type": "execute_result",
          "data": {
            "text/plain": [
              "array([[63,  1],\n",
              "       [ 2, 64]])"
            ]
          },
          "metadata": {},
          "execution_count": 41
        }
      ]
    },
    {
      "cell_type": "markdown",
      "source": [
        "Precisão e sensibilidade do modelo:"
      ],
      "metadata": {
        "id": "y5k_vkp816WJ"
      }
    },
    {
      "cell_type": "code",
      "source": [
        "precision_score(yte, modelo_real.predict(Xte).flatten()>=0), recall_score(yte, modelo_real.predict(Xte).flatten()>=0)"
      ],
      "metadata": {
        "colab": {
          "base_uri": "https://localhost:8080/"
        },
        "id": "bBwXzbTdNZfE",
        "outputId": "1a16d3b8-d2cc-446a-caff-ba48254f42aa"
      },
      "execution_count": null,
      "outputs": [
        {
          "output_type": "stream",
          "name": "stdout",
          "text": [
            "5/5 [==============================] - 0s 3ms/step\n",
            "5/5 [==============================] - 0s 3ms/step\n"
          ]
        },
        {
          "output_type": "execute_result",
          "data": {
            "text/plain": [
              "(0.9846153846153847, 0.9696969696969697)"
            ]
          },
          "metadata": {},
          "execution_count": 42
        }
      ]
    },
    {
      "cell_type": "markdown",
      "source": [
        "## Rede Hipercomplexa A[-1,+1]\n",
        "\n",
        "Na seção anterior, foi utilizado um modelo convencional de redes convolucionais que utilizou os canais de cores RGB. Nesta seção, para fins de demonstração, será utilizado um modelo de rede hipercomplexa da álgebra $A[-1,+1]$, que é uma álgebra de Clifford de 4 dimensões.\n",
        "\n",
        "Para este modelo hipercomplexo, escolhemos utilizar o conjunto de imagens no canal de cor HSV, pois alguns estudos sugeriram que é mais adequado para redes hipercomplexas em comparação com o RGB. No entanto, é importante notar que a escolha da álgebra $A[-1,+1]$ foi arbitrária e outras álgebras de Clifford de 4 dimensões também podem ser utilizadas com o modelo de rede hipercomplexa."
      ],
      "metadata": {
        "id": "WMjUD7gm3h9n"
      }
    },
    {
      "cell_type": "code",
      "source": [
        "Xtr = Xq_hsv[indtr]\n",
        "Xte = Xq_hsv[indte]\n",
        "\n",
        "tf.keras.backend.clear_session()\n",
        "\n",
        "gama1, gama2 = -1, 1 # A[-1,+1]\n",
        "\n",
        "algebra = np.array([[gama1, +1, gama1], [-1, gama2, -gama2], [-gama1, gama2, -gama1 * gama2]])\n",
        "\n",
        "datagen = kr.preprocessing.image.ImageDataGenerator(\n",
        "    horizontal_flip=True,\n",
        "    vertical_flip=True)\n",
        "datagen.fit(Xtr)\n",
        "it = datagen.flow(Xtr, ytr, batch_size=32)\n",
        "batch = it.next()\n",
        "\n",
        "modelo_hiper = kr.Sequential(\n",
        "    [\n",
        "        layers.Input(shape=Xtr.shape[1:]),\n",
        "        HiperConv2D(4, kernel_size=(3, 3), activation=\"relu\", algebra = algebra),\n",
        "        layers.MaxPooling2D(pool_size=(2, 2)),\n",
        "        HiperConv2D(8, kernel_size=(3, 3), activation=\"relu\", algebra = algebra),\n",
        "        layers.MaxPooling2D(pool_size=(2, 2)),\n",
        "        HiperConv2D(8, kernel_size=(3, 3), activation=\"relu\", algebra = algebra),\n",
        "        layers.MaxPooling2D(pool_size=(2, 2)),\n",
        "        HiperConv2D(16, kernel_size=(3, 3), activation=\"relu\", algebra = algebra),\n",
        "        layers.MaxPooling2D(pool_size=(2, 2)),\n",
        "        layers.Flatten(),\n",
        "        layers.Dropout(0.5),\n",
        "        layers.Dense(1, activation=None),\n",
        "    ]\n",
        ")\n",
        "\n",
        "modelo_hiper.summary()\n"
      ],
      "metadata": {
        "colab": {
          "base_uri": "https://localhost:8080/"
        },
        "id": "T39ZvTR2NR9c",
        "outputId": "e025fbe5-4e10-452b-a13f-dca131c97820"
      },
      "execution_count": null,
      "outputs": [
        {
          "output_type": "stream",
          "name": "stderr",
          "text": [
            "/usr/local/lib/python3.8/dist-packages/keras/initializers/initializers_v2.py:120: UserWarning: The initializer GlorotNormal is unseeded and being called multiple times, which will return identical values  each time (even if the initializer is unseeded). Please update your code to provide a seed to the initializer, or avoid using the same initalizer instance more than once.\n",
            "  warnings.warn(\n"
          ]
        },
        {
          "output_type": "stream",
          "name": "stdout",
          "text": [
            "Model: \"sequential\"\n",
            "_________________________________________________________________\n",
            " Layer (type)                Output Shape              Param #   \n",
            "=================================================================\n",
            " hiper_conv2d (HiperConv2D)  (None, 98, 98, 16)        160       \n",
            "                                                                 \n",
            " max_pooling2d (MaxPooling2D  (None, 49, 49, 16)       0         \n",
            " )                                                               \n",
            "                                                                 \n",
            " hiper_conv2d_1 (HiperConv2D  (None, 47, 47, 32)       1184      \n",
            " )                                                               \n",
            "                                                                 \n",
            " max_pooling2d_1 (MaxPooling  (None, 23, 23, 32)       0         \n",
            " 2D)                                                             \n",
            "                                                                 \n",
            " hiper_conv2d_2 (HiperConv2D  (None, 21, 21, 32)       2336      \n",
            " )                                                               \n",
            "                                                                 \n",
            " max_pooling2d_2 (MaxPooling  (None, 10, 10, 32)       0         \n",
            " 2D)                                                             \n",
            "                                                                 \n",
            " hiper_conv2d_3 (HiperConv2D  (None, 8, 8, 64)         4672      \n",
            " )                                                               \n",
            "                                                                 \n",
            " max_pooling2d_3 (MaxPooling  (None, 4, 4, 64)         0         \n",
            " 2D)                                                             \n",
            "                                                                 \n",
            " flatten (Flatten)           (None, 1024)              0         \n",
            "                                                                 \n",
            " dropout (Dropout)           (None, 1024)              0         \n",
            "                                                                 \n",
            " dense (Dense)               (None, 1)                 1025      \n",
            "                                                                 \n",
            "=================================================================\n",
            "Total params: 9,377\n",
            "Trainable params: 9,377\n",
            "Non-trainable params: 0\n",
            "_________________________________________________________________\n"
          ]
        }
      ]
    },
    {
      "cell_type": "markdown",
      "source": [
        "Observa-se que, na rede hipercomplexa, cada camada possui metade dos filtros em comparação com a camada correspondente na rede com valores reais. Isso ocorre devido ao fato de que cada camada hipercomplexa possui mais pesos associados a ela para o mesmo número de filtros. No entanto, o número total de parâmetros em ambas as redes é da mesma ordem de grandeza.\n",
        "\n",
        "O modelo hipercomplexo foi compilado com as mesmas configurações do modelo convencional, utilizando o otimizador Adam e a função de custo Binary Cross Entropy."
      ],
      "metadata": {
        "id": "u-SDPWG636uL"
      }
    },
    {
      "cell_type": "code",
      "source": [
        "modelo_hiper.compile(optimizer='adam',\n",
        "              loss=kr.losses.BinaryCrossentropy(from_logits=True),\n",
        "              metrics=[kr.metrics.BinaryAccuracy()])\n",
        "\n",
        "modelo_hiper.fit(datagen.flow(Xtr, ytr, batch_size=32),epochs=n_epocas, verbose=0, validation_data=(Xte,yte))\n"
      ],
      "metadata": {
        "id": "uIoZE-AdrRes"
      },
      "execution_count": null,
      "outputs": []
    },
    {
      "cell_type": "markdown",
      "source": [
        "Apresentamos os resultados obtidos, incluindo a matriz de confusão e as métricas de precisão e recall."
      ],
      "metadata": {
        "id": "G3zo6Kei4Aal"
      }
    },
    {
      "cell_type": "code",
      "source": [
        "confusion_matrix(yte, modelo_hiper_a.predict(Xte).flatten()>=0)"
      ],
      "metadata": {
        "colab": {
          "base_uri": "https://localhost:8080/"
        },
        "id": "1-HYWYw7fdQV",
        "outputId": "cf646ff8-568a-4241-8758-078c78449665"
      },
      "execution_count": null,
      "outputs": [
        {
          "output_type": "stream",
          "name": "stdout",
          "text": [
            "5/5 [==============================] - 0s 6ms/step\n"
          ]
        },
        {
          "output_type": "execute_result",
          "data": {
            "text/plain": [
              "array([[57,  7],\n",
              "       [ 1, 65]])"
            ]
          },
          "metadata": {},
          "execution_count": 45
        }
      ]
    },
    {
      "cell_type": "code",
      "source": [
        "precision_score(yte, modelo_hiper_a.predict(Xte).flatten()>=0), recall_score(yte, modelo_hiper_a.predict(Xte).flatten()>=0)"
      ],
      "metadata": {
        "colab": {
          "base_uri": "https://localhost:8080/"
        },
        "id": "TirHTQemfSw9",
        "outputId": "8e13f63c-83d0-40d6-fe08-9cfbc8523fd3"
      },
      "execution_count": null,
      "outputs": [
        {
          "output_type": "stream",
          "name": "stdout",
          "text": [
            "5/5 [==============================] - 0s 5ms/step\n",
            "5/5 [==============================] - 0s 6ms/step\n"
          ]
        },
        {
          "output_type": "execute_result",
          "data": {
            "text/plain": [
              "(0.9027777777777778, 0.9848484848484849)"
            ]
          },
          "metadata": {},
          "execution_count": 46
        }
      ]
    },
    {
      "cell_type": "markdown",
      "source": [
        "## Carregando dados dos Modelos\n",
        "\n",
        "Foram treinados quatro modelos diferentes em 50 repetições cada um:\n",
        "\n",
        "* Modelo com valores reais e canais RGB\n",
        "* Modelo hipercomplexo da álgebra Cl(0,2) com canais HSV\n",
        "* Modelo hipercomplexo da álgebra Cl(1,1) com canais HSV\n",
        "* Modelo hipercomplexo da álgebra Cl(2,0) com canais HSV\n",
        "\n",
        "Ao todo, foram gerados 200 modelos e avaliados seus respectivos desempenhos em termos de acurácia. Esses dados de acurácia podem ser carregados a partir de um dataframe utilizando a biblioteca Pandas.\n"
      ],
      "metadata": {
        "id": "Omuc4OTP30yX"
      }
    },
    {
      "cell_type": "code",
      "source": [
        "df = pd.read_csv(\"/content/drive/MyDrive/IC - CNN/dados/acuracia_modelos.csv\", index_col='Unnamed: 0')"
      ],
      "metadata": {
        "id": "eoMgSBIiC6lh"
      },
      "execution_count": null,
      "outputs": []
    },
    {
      "cell_type": "code",
      "source": [
        "df"
      ],
      "metadata": {
        "colab": {
          "base_uri": "https://localhost:8080/",
          "height": 1000
        },
        "id": "Nxlq7vwmDd2e",
        "outputId": "d5c37c6d-d193-454f-975c-dac09f2c8f3b"
      },
      "execution_count": null,
      "outputs": [
        {
          "output_type": "execute_result",
          "data": {
            "text/plain": [
              "    Real-RGB  Cl(0,2)-HSV  Cl(1,1)-HSV  Cl(2,0)-HSV\n",
              "0   0.984615     0.953846     0.938462     0.953846\n",
              "1   0.938462     0.961538     0.676923     0.969231\n",
              "2   0.961538     0.961538     0.969231     0.961538\n",
              "3   0.853846     0.938462     0.953846     0.976923\n",
              "4   0.946154     0.969231     0.969231     0.976923\n",
              "5   0.761538     0.969231     0.976923     0.984615\n",
              "6   0.976923     0.861538     0.969231     0.984615\n",
              "7   0.876923     0.976923     0.976923     0.992308\n",
              "8   0.807692     0.976923     0.961538     0.938462\n",
              "9   0.892308     0.961538     0.969231     0.976923\n",
              "10  0.961538     0.984615     0.930769     0.992308\n",
              "11  0.784615     0.969231     0.961538     0.961538\n",
              "12  0.930769     0.969231     0.984615     0.969231\n",
              "13  0.853846     0.969231     0.953846     0.946154\n",
              "14  0.846154     0.953846     0.961538     0.961538\n",
              "15  0.930769     0.907692     0.976923     0.976923\n",
              "16  0.992308     0.953846     0.984615     0.923077\n",
              "17  0.938462     0.961538     0.953846     0.953846\n",
              "18  0.892308     0.961538     0.946154     0.946154\n",
              "19  0.969231     0.930769     0.946154     0.938462\n",
              "20  0.946154     0.961538     0.961538     0.976923\n",
              "21  0.876923     0.946154     0.969231     0.946154\n",
              "22  0.692308     0.907692     0.923077     0.915385\n",
              "23  0.884615     0.938462     0.969231     0.961538\n",
              "24  0.846154     0.969231     0.961538     0.969231\n",
              "25  0.930769     0.946154     0.961538     0.961538\n",
              "26  0.884615     0.946154     0.946154     0.892308\n",
              "27  0.800000     0.953846     0.938462     0.961538\n",
              "28  0.938462     0.953846     0.961538     0.953846\n",
              "29  0.823077     0.907692     0.907692     0.930769\n",
              "30  0.838462     0.961538     0.961538     0.969231\n",
              "31  0.907692     0.884615     0.923077     0.907692\n",
              "32  0.761538     0.961538     0.992308     0.953846\n",
              "33  0.961538     0.953846     0.969231     0.961538\n",
              "34  0.853846     0.953846     0.961538     0.946154\n",
              "35  0.938462     0.869231     0.946154     0.969231\n",
              "36  0.869231     0.946154     0.976923     0.953846\n",
              "37  0.938462     0.938462     0.923077     0.907692\n",
              "38  0.938462     0.953846     0.961538     0.946154\n",
              "39  0.969231     0.976923     0.992308     1.000000\n",
              "40  0.976923     0.961538     0.961538     0.953846\n",
              "41  0.784615     0.984615     0.938462     0.976923\n",
              "42  0.869231     0.946154     0.953846     0.961538\n",
              "43  0.984615     0.984615     0.984615     1.000000\n",
              "44  0.946154     0.969231     0.969231     0.961538\n",
              "45  0.869231     0.961538     0.969231     0.961538\n",
              "46  0.861538     0.961538     0.946154     0.961538\n",
              "47  0.938462     0.984615     0.976923     0.976923\n",
              "48  0.930769     0.938462     0.946154     0.953846\n",
              "49  0.961538     0.946154     0.961538     0.946154"
            ],
            "text/html": [
              "\n",
              "  <div id=\"df-fe916cc5-6945-49c2-b5ba-fcdb7a08a02c\">\n",
              "    <div class=\"colab-df-container\">\n",
              "      <div>\n",
              "<style scoped>\n",
              "    .dataframe tbody tr th:only-of-type {\n",
              "        vertical-align: middle;\n",
              "    }\n",
              "\n",
              "    .dataframe tbody tr th {\n",
              "        vertical-align: top;\n",
              "    }\n",
              "\n",
              "    .dataframe thead th {\n",
              "        text-align: right;\n",
              "    }\n",
              "</style>\n",
              "<table border=\"1\" class=\"dataframe\">\n",
              "  <thead>\n",
              "    <tr style=\"text-align: right;\">\n",
              "      <th></th>\n",
              "      <th>Real-RGB</th>\n",
              "      <th>Cl(0,2)-HSV</th>\n",
              "      <th>Cl(1,1)-HSV</th>\n",
              "      <th>Cl(2,0)-HSV</th>\n",
              "    </tr>\n",
              "  </thead>\n",
              "  <tbody>\n",
              "    <tr>\n",
              "      <th>0</th>\n",
              "      <td>0.984615</td>\n",
              "      <td>0.953846</td>\n",
              "      <td>0.938462</td>\n",
              "      <td>0.953846</td>\n",
              "    </tr>\n",
              "    <tr>\n",
              "      <th>1</th>\n",
              "      <td>0.938462</td>\n",
              "      <td>0.961538</td>\n",
              "      <td>0.676923</td>\n",
              "      <td>0.969231</td>\n",
              "    </tr>\n",
              "    <tr>\n",
              "      <th>2</th>\n",
              "      <td>0.961538</td>\n",
              "      <td>0.961538</td>\n",
              "      <td>0.969231</td>\n",
              "      <td>0.961538</td>\n",
              "    </tr>\n",
              "    <tr>\n",
              "      <th>3</th>\n",
              "      <td>0.853846</td>\n",
              "      <td>0.938462</td>\n",
              "      <td>0.953846</td>\n",
              "      <td>0.976923</td>\n",
              "    </tr>\n",
              "    <tr>\n",
              "      <th>4</th>\n",
              "      <td>0.946154</td>\n",
              "      <td>0.969231</td>\n",
              "      <td>0.969231</td>\n",
              "      <td>0.976923</td>\n",
              "    </tr>\n",
              "    <tr>\n",
              "      <th>5</th>\n",
              "      <td>0.761538</td>\n",
              "      <td>0.969231</td>\n",
              "      <td>0.976923</td>\n",
              "      <td>0.984615</td>\n",
              "    </tr>\n",
              "    <tr>\n",
              "      <th>6</th>\n",
              "      <td>0.976923</td>\n",
              "      <td>0.861538</td>\n",
              "      <td>0.969231</td>\n",
              "      <td>0.984615</td>\n",
              "    </tr>\n",
              "    <tr>\n",
              "      <th>7</th>\n",
              "      <td>0.876923</td>\n",
              "      <td>0.976923</td>\n",
              "      <td>0.976923</td>\n",
              "      <td>0.992308</td>\n",
              "    </tr>\n",
              "    <tr>\n",
              "      <th>8</th>\n",
              "      <td>0.807692</td>\n",
              "      <td>0.976923</td>\n",
              "      <td>0.961538</td>\n",
              "      <td>0.938462</td>\n",
              "    </tr>\n",
              "    <tr>\n",
              "      <th>9</th>\n",
              "      <td>0.892308</td>\n",
              "      <td>0.961538</td>\n",
              "      <td>0.969231</td>\n",
              "      <td>0.976923</td>\n",
              "    </tr>\n",
              "    <tr>\n",
              "      <th>10</th>\n",
              "      <td>0.961538</td>\n",
              "      <td>0.984615</td>\n",
              "      <td>0.930769</td>\n",
              "      <td>0.992308</td>\n",
              "    </tr>\n",
              "    <tr>\n",
              "      <th>11</th>\n",
              "      <td>0.784615</td>\n",
              "      <td>0.969231</td>\n",
              "      <td>0.961538</td>\n",
              "      <td>0.961538</td>\n",
              "    </tr>\n",
              "    <tr>\n",
              "      <th>12</th>\n",
              "      <td>0.930769</td>\n",
              "      <td>0.969231</td>\n",
              "      <td>0.984615</td>\n",
              "      <td>0.969231</td>\n",
              "    </tr>\n",
              "    <tr>\n",
              "      <th>13</th>\n",
              "      <td>0.853846</td>\n",
              "      <td>0.969231</td>\n",
              "      <td>0.953846</td>\n",
              "      <td>0.946154</td>\n",
              "    </tr>\n",
              "    <tr>\n",
              "      <th>14</th>\n",
              "      <td>0.846154</td>\n",
              "      <td>0.953846</td>\n",
              "      <td>0.961538</td>\n",
              "      <td>0.961538</td>\n",
              "    </tr>\n",
              "    <tr>\n",
              "      <th>15</th>\n",
              "      <td>0.930769</td>\n",
              "      <td>0.907692</td>\n",
              "      <td>0.976923</td>\n",
              "      <td>0.976923</td>\n",
              "    </tr>\n",
              "    <tr>\n",
              "      <th>16</th>\n",
              "      <td>0.992308</td>\n",
              "      <td>0.953846</td>\n",
              "      <td>0.984615</td>\n",
              "      <td>0.923077</td>\n",
              "    </tr>\n",
              "    <tr>\n",
              "      <th>17</th>\n",
              "      <td>0.938462</td>\n",
              "      <td>0.961538</td>\n",
              "      <td>0.953846</td>\n",
              "      <td>0.953846</td>\n",
              "    </tr>\n",
              "    <tr>\n",
              "      <th>18</th>\n",
              "      <td>0.892308</td>\n",
              "      <td>0.961538</td>\n",
              "      <td>0.946154</td>\n",
              "      <td>0.946154</td>\n",
              "    </tr>\n",
              "    <tr>\n",
              "      <th>19</th>\n",
              "      <td>0.969231</td>\n",
              "      <td>0.930769</td>\n",
              "      <td>0.946154</td>\n",
              "      <td>0.938462</td>\n",
              "    </tr>\n",
              "    <tr>\n",
              "      <th>20</th>\n",
              "      <td>0.946154</td>\n",
              "      <td>0.961538</td>\n",
              "      <td>0.961538</td>\n",
              "      <td>0.976923</td>\n",
              "    </tr>\n",
              "    <tr>\n",
              "      <th>21</th>\n",
              "      <td>0.876923</td>\n",
              "      <td>0.946154</td>\n",
              "      <td>0.969231</td>\n",
              "      <td>0.946154</td>\n",
              "    </tr>\n",
              "    <tr>\n",
              "      <th>22</th>\n",
              "      <td>0.692308</td>\n",
              "      <td>0.907692</td>\n",
              "      <td>0.923077</td>\n",
              "      <td>0.915385</td>\n",
              "    </tr>\n",
              "    <tr>\n",
              "      <th>23</th>\n",
              "      <td>0.884615</td>\n",
              "      <td>0.938462</td>\n",
              "      <td>0.969231</td>\n",
              "      <td>0.961538</td>\n",
              "    </tr>\n",
              "    <tr>\n",
              "      <th>24</th>\n",
              "      <td>0.846154</td>\n",
              "      <td>0.969231</td>\n",
              "      <td>0.961538</td>\n",
              "      <td>0.969231</td>\n",
              "    </tr>\n",
              "    <tr>\n",
              "      <th>25</th>\n",
              "      <td>0.930769</td>\n",
              "      <td>0.946154</td>\n",
              "      <td>0.961538</td>\n",
              "      <td>0.961538</td>\n",
              "    </tr>\n",
              "    <tr>\n",
              "      <th>26</th>\n",
              "      <td>0.884615</td>\n",
              "      <td>0.946154</td>\n",
              "      <td>0.946154</td>\n",
              "      <td>0.892308</td>\n",
              "    </tr>\n",
              "    <tr>\n",
              "      <th>27</th>\n",
              "      <td>0.800000</td>\n",
              "      <td>0.953846</td>\n",
              "      <td>0.938462</td>\n",
              "      <td>0.961538</td>\n",
              "    </tr>\n",
              "    <tr>\n",
              "      <th>28</th>\n",
              "      <td>0.938462</td>\n",
              "      <td>0.953846</td>\n",
              "      <td>0.961538</td>\n",
              "      <td>0.953846</td>\n",
              "    </tr>\n",
              "    <tr>\n",
              "      <th>29</th>\n",
              "      <td>0.823077</td>\n",
              "      <td>0.907692</td>\n",
              "      <td>0.907692</td>\n",
              "      <td>0.930769</td>\n",
              "    </tr>\n",
              "    <tr>\n",
              "      <th>30</th>\n",
              "      <td>0.838462</td>\n",
              "      <td>0.961538</td>\n",
              "      <td>0.961538</td>\n",
              "      <td>0.969231</td>\n",
              "    </tr>\n",
              "    <tr>\n",
              "      <th>31</th>\n",
              "      <td>0.907692</td>\n",
              "      <td>0.884615</td>\n",
              "      <td>0.923077</td>\n",
              "      <td>0.907692</td>\n",
              "    </tr>\n",
              "    <tr>\n",
              "      <th>32</th>\n",
              "      <td>0.761538</td>\n",
              "      <td>0.961538</td>\n",
              "      <td>0.992308</td>\n",
              "      <td>0.953846</td>\n",
              "    </tr>\n",
              "    <tr>\n",
              "      <th>33</th>\n",
              "      <td>0.961538</td>\n",
              "      <td>0.953846</td>\n",
              "      <td>0.969231</td>\n",
              "      <td>0.961538</td>\n",
              "    </tr>\n",
              "    <tr>\n",
              "      <th>34</th>\n",
              "      <td>0.853846</td>\n",
              "      <td>0.953846</td>\n",
              "      <td>0.961538</td>\n",
              "      <td>0.946154</td>\n",
              "    </tr>\n",
              "    <tr>\n",
              "      <th>35</th>\n",
              "      <td>0.938462</td>\n",
              "      <td>0.869231</td>\n",
              "      <td>0.946154</td>\n",
              "      <td>0.969231</td>\n",
              "    </tr>\n",
              "    <tr>\n",
              "      <th>36</th>\n",
              "      <td>0.869231</td>\n",
              "      <td>0.946154</td>\n",
              "      <td>0.976923</td>\n",
              "      <td>0.953846</td>\n",
              "    </tr>\n",
              "    <tr>\n",
              "      <th>37</th>\n",
              "      <td>0.938462</td>\n",
              "      <td>0.938462</td>\n",
              "      <td>0.923077</td>\n",
              "      <td>0.907692</td>\n",
              "    </tr>\n",
              "    <tr>\n",
              "      <th>38</th>\n",
              "      <td>0.938462</td>\n",
              "      <td>0.953846</td>\n",
              "      <td>0.961538</td>\n",
              "      <td>0.946154</td>\n",
              "    </tr>\n",
              "    <tr>\n",
              "      <th>39</th>\n",
              "      <td>0.969231</td>\n",
              "      <td>0.976923</td>\n",
              "      <td>0.992308</td>\n",
              "      <td>1.000000</td>\n",
              "    </tr>\n",
              "    <tr>\n",
              "      <th>40</th>\n",
              "      <td>0.976923</td>\n",
              "      <td>0.961538</td>\n",
              "      <td>0.961538</td>\n",
              "      <td>0.953846</td>\n",
              "    </tr>\n",
              "    <tr>\n",
              "      <th>41</th>\n",
              "      <td>0.784615</td>\n",
              "      <td>0.984615</td>\n",
              "      <td>0.938462</td>\n",
              "      <td>0.976923</td>\n",
              "    </tr>\n",
              "    <tr>\n",
              "      <th>42</th>\n",
              "      <td>0.869231</td>\n",
              "      <td>0.946154</td>\n",
              "      <td>0.953846</td>\n",
              "      <td>0.961538</td>\n",
              "    </tr>\n",
              "    <tr>\n",
              "      <th>43</th>\n",
              "      <td>0.984615</td>\n",
              "      <td>0.984615</td>\n",
              "      <td>0.984615</td>\n",
              "      <td>1.000000</td>\n",
              "    </tr>\n",
              "    <tr>\n",
              "      <th>44</th>\n",
              "      <td>0.946154</td>\n",
              "      <td>0.969231</td>\n",
              "      <td>0.969231</td>\n",
              "      <td>0.961538</td>\n",
              "    </tr>\n",
              "    <tr>\n",
              "      <th>45</th>\n",
              "      <td>0.869231</td>\n",
              "      <td>0.961538</td>\n",
              "      <td>0.969231</td>\n",
              "      <td>0.961538</td>\n",
              "    </tr>\n",
              "    <tr>\n",
              "      <th>46</th>\n",
              "      <td>0.861538</td>\n",
              "      <td>0.961538</td>\n",
              "      <td>0.946154</td>\n",
              "      <td>0.961538</td>\n",
              "    </tr>\n",
              "    <tr>\n",
              "      <th>47</th>\n",
              "      <td>0.938462</td>\n",
              "      <td>0.984615</td>\n",
              "      <td>0.976923</td>\n",
              "      <td>0.976923</td>\n",
              "    </tr>\n",
              "    <tr>\n",
              "      <th>48</th>\n",
              "      <td>0.930769</td>\n",
              "      <td>0.938462</td>\n",
              "      <td>0.946154</td>\n",
              "      <td>0.953846</td>\n",
              "    </tr>\n",
              "    <tr>\n",
              "      <th>49</th>\n",
              "      <td>0.961538</td>\n",
              "      <td>0.946154</td>\n",
              "      <td>0.961538</td>\n",
              "      <td>0.946154</td>\n",
              "    </tr>\n",
              "  </tbody>\n",
              "</table>\n",
              "</div>\n",
              "      <button class=\"colab-df-convert\" onclick=\"convertToInteractive('df-fe916cc5-6945-49c2-b5ba-fcdb7a08a02c')\"\n",
              "              title=\"Convert this dataframe to an interactive table.\"\n",
              "              style=\"display:none;\">\n",
              "        \n",
              "  <svg xmlns=\"http://www.w3.org/2000/svg\" height=\"24px\"viewBox=\"0 0 24 24\"\n",
              "       width=\"24px\">\n",
              "    <path d=\"M0 0h24v24H0V0z\" fill=\"none\"/>\n",
              "    <path d=\"M18.56 5.44l.94 2.06.94-2.06 2.06-.94-2.06-.94-.94-2.06-.94 2.06-2.06.94zm-11 1L8.5 8.5l.94-2.06 2.06-.94-2.06-.94L8.5 2.5l-.94 2.06-2.06.94zm10 10l.94 2.06.94-2.06 2.06-.94-2.06-.94-.94-2.06-.94 2.06-2.06.94z\"/><path d=\"M17.41 7.96l-1.37-1.37c-.4-.4-.92-.59-1.43-.59-.52 0-1.04.2-1.43.59L10.3 9.45l-7.72 7.72c-.78.78-.78 2.05 0 2.83L4 21.41c.39.39.9.59 1.41.59.51 0 1.02-.2 1.41-.59l7.78-7.78 2.81-2.81c.8-.78.8-2.07 0-2.86zM5.41 20L4 18.59l7.72-7.72 1.47 1.35L5.41 20z\"/>\n",
              "  </svg>\n",
              "      </button>\n",
              "      \n",
              "  <style>\n",
              "    .colab-df-container {\n",
              "      display:flex;\n",
              "      flex-wrap:wrap;\n",
              "      gap: 12px;\n",
              "    }\n",
              "\n",
              "    .colab-df-convert {\n",
              "      background-color: #E8F0FE;\n",
              "      border: none;\n",
              "      border-radius: 50%;\n",
              "      cursor: pointer;\n",
              "      display: none;\n",
              "      fill: #1967D2;\n",
              "      height: 32px;\n",
              "      padding: 0 0 0 0;\n",
              "      width: 32px;\n",
              "    }\n",
              "\n",
              "    .colab-df-convert:hover {\n",
              "      background-color: #E2EBFA;\n",
              "      box-shadow: 0px 1px 2px rgba(60, 64, 67, 0.3), 0px 1px 3px 1px rgba(60, 64, 67, 0.15);\n",
              "      fill: #174EA6;\n",
              "    }\n",
              "\n",
              "    [theme=dark] .colab-df-convert {\n",
              "      background-color: #3B4455;\n",
              "      fill: #D2E3FC;\n",
              "    }\n",
              "\n",
              "    [theme=dark] .colab-df-convert:hover {\n",
              "      background-color: #434B5C;\n",
              "      box-shadow: 0px 1px 3px 1px rgba(0, 0, 0, 0.15);\n",
              "      filter: drop-shadow(0px 1px 2px rgba(0, 0, 0, 0.3));\n",
              "      fill: #FFFFFF;\n",
              "    }\n",
              "  </style>\n",
              "\n",
              "      <script>\n",
              "        const buttonEl =\n",
              "          document.querySelector('#df-fe916cc5-6945-49c2-b5ba-fcdb7a08a02c button.colab-df-convert');\n",
              "        buttonEl.style.display =\n",
              "          google.colab.kernel.accessAllowed ? 'block' : 'none';\n",
              "\n",
              "        async function convertToInteractive(key) {\n",
              "          const element = document.querySelector('#df-fe916cc5-6945-49c2-b5ba-fcdb7a08a02c');\n",
              "          const dataTable =\n",
              "            await google.colab.kernel.invokeFunction('convertToInteractive',\n",
              "                                                     [key], {});\n",
              "          if (!dataTable) return;\n",
              "\n",
              "          const docLinkHtml = 'Like what you see? Visit the ' +\n",
              "            '<a target=\"_blank\" href=https://colab.research.google.com/notebooks/data_table.ipynb>data table notebook</a>'\n",
              "            + ' to learn more about interactive tables.';\n",
              "          element.innerHTML = '';\n",
              "          dataTable['output_type'] = 'display_data';\n",
              "          await google.colab.output.renderOutput(dataTable, element);\n",
              "          const docLink = document.createElement('div');\n",
              "          docLink.innerHTML = docLinkHtml;\n",
              "          element.appendChild(docLink);\n",
              "        }\n",
              "      </script>\n",
              "    </div>\n",
              "  </div>\n",
              "  "
            ]
          },
          "metadata": {},
          "execution_count": 9
        }
      ]
    },
    {
      "cell_type": "markdown",
      "source": [
        "Ao plotar um boxplot para cada um dos modelos, é possível realizar uma comparação entre os resultados obtidos por cada modelo."
      ],
      "metadata": {
        "id": "bxJAwG0D5chT"
      }
    },
    {
      "cell_type": "code",
      "source": [
        "fig, ax = plt.subplots(nrows=1, ncols=1, figsize=(10,6))\n",
        "\n",
        "ax = sns.boxplot(data=df)\n",
        "ax.set_ylabel('Acurácia')\n",
        "\n",
        "fig.tight_layout()"
      ],
      "metadata": {
        "colab": {
          "base_uri": "https://localhost:8080/",
          "height": 441
        },
        "id": "Wk-2uDsMEiI8",
        "outputId": "2cc240cf-6e17-4477-b740-701ed0641fa6"
      },
      "execution_count": null,
      "outputs": [
        {
          "output_type": "display_data",
          "data": {
            "text/plain": [
              "<Figure size 720x432 with 1 Axes>"
            ],
            "image/png": "[encoded data removed]"
          },
          "metadata": {
            "needs_background": "light"
          }
        }
      ]
    },
    {
      "cell_type": "code",
      "source": [
        "df.describe()"
      ],
      "metadata": {
        "colab": {
          "base_uri": "https://localhost:8080/",
          "height": 300
        },
        "id": "XpxZpJX3De7G",
        "outputId": "9453105d-0011-43ee-e907-dea14b757045"
      },
      "execution_count": null,
      "outputs": [
        {
          "output_type": "execute_result",
          "data": {
            "text/plain": [
              "        Real-RGB  Cl(0,2)-HSV  Cl(1,1)-HSV  Cl(2,0)-HSV\n",
              "count  50.000000    50.000000    50.000000    50.000000\n",
              "mean    0.896462     0.951231     0.953538     0.958462\n",
              "std     0.069086     0.027123     0.043927     0.022787\n",
              "min     0.692308     0.861538     0.676923     0.892308\n",
              "25%     0.853846     0.946154     0.946154     0.946154\n",
              "50%     0.919231     0.957692     0.961538     0.961538\n",
              "75%     0.946154     0.969231     0.969231     0.975000\n",
              "max     0.992308     0.984615     0.992308     1.000000"
            ],
            "text/html": [
              "\n",
              "  <div id=\"df-e2100508-ed86-4f30-a4ab-61a1a9a4fbd5\">\n",
              "    <div class=\"colab-df-container\">\n",
              "      <div>\n",
              "<style scoped>\n",
              "    .dataframe tbody tr th:only-of-type {\n",
              "        vertical-align: middle;\n",
              "    }\n",
              "\n",
              "    .dataframe tbody tr th {\n",
              "        vertical-align: top;\n",
              "    }\n",
              "\n",
              "    .dataframe thead th {\n",
              "        text-align: right;\n",
              "    }\n",
              "</style>\n",
              "<table border=\"1\" class=\"dataframe\">\n",
              "  <thead>\n",
              "    <tr style=\"text-align: right;\">\n",
              "      <th></th>\n",
              "      <th>Real-RGB</th>\n",
              "      <th>Cl(0,2)-HSV</th>\n",
              "      <th>Cl(1,1)-HSV</th>\n",
              "      <th>Cl(2,0)-HSV</th>\n",
              "    </tr>\n",
              "  </thead>\n",
              "  <tbody>\n",
              "    <tr>\n",
              "      <th>count</th>\n",
              "      <td>50.000000</td>\n",
              "      <td>50.000000</td>\n",
              "      <td>50.000000</td>\n",
              "      <td>50.000000</td>\n",
              "    </tr>\n",
              "    <tr>\n",
              "      <th>mean</th>\n",
              "      <td>0.896462</td>\n",
              "      <td>0.951231</td>\n",
              "      <td>0.953538</td>\n",
              "      <td>0.958462</td>\n",
              "    </tr>\n",
              "    <tr>\n",
              "      <th>std</th>\n",
              "      <td>0.069086</td>\n",
              "      <td>0.027123</td>\n",
              "      <td>0.043927</td>\n",
              "      <td>0.022787</td>\n",
              "    </tr>\n",
              "    <tr>\n",
              "      <th>min</th>\n",
              "      <td>0.692308</td>\n",
              "      <td>0.861538</td>\n",
              "      <td>0.676923</td>\n",
              "      <td>0.892308</td>\n",
              "    </tr>\n",
              "    <tr>\n",
              "      <th>25%</th>\n",
              "      <td>0.853846</td>\n",
              "      <td>0.946154</td>\n",
              "      <td>0.946154</td>\n",
              "      <td>0.946154</td>\n",
              "    </tr>\n",
              "    <tr>\n",
              "      <th>50%</th>\n",
              "      <td>0.919231</td>\n",
              "      <td>0.957692</td>\n",
              "      <td>0.961538</td>\n",
              "      <td>0.961538</td>\n",
              "    </tr>\n",
              "    <tr>\n",
              "      <th>75%</th>\n",
              "      <td>0.946154</td>\n",
              "      <td>0.969231</td>\n",
              "      <td>0.969231</td>\n",
              "      <td>0.975000</td>\n",
              "    </tr>\n",
              "    <tr>\n",
              "      <th>max</th>\n",
              "      <td>0.992308</td>\n",
              "      <td>0.984615</td>\n",
              "      <td>0.992308</td>\n",
              "      <td>1.000000</td>\n",
              "    </tr>\n",
              "  </tbody>\n",
              "</table>\n",
              "</div>\n",
              "      <button class=\"colab-df-convert\" onclick=\"convertToInteractive('df-e2100508-ed86-4f30-a4ab-61a1a9a4fbd5')\"\n",
              "              title=\"Convert this dataframe to an interactive table.\"\n",
              "              style=\"display:none;\">\n",
              "        \n",
              "  <svg xmlns=\"http://www.w3.org/2000/svg\" height=\"24px\"viewBox=\"0 0 24 24\"\n",
              "       width=\"24px\">\n",
              "    <path d=\"M0 0h24v24H0V0z\" fill=\"none\"/>\n",
              "    <path d=\"M18.56 5.44l.94 2.06.94-2.06 2.06-.94-2.06-.94-.94-2.06-.94 2.06-2.06.94zm-11 1L8.5 8.5l.94-2.06 2.06-.94-2.06-.94L8.5 2.5l-.94 2.06-2.06.94zm10 10l.94 2.06.94-2.06 2.06-.94-2.06-.94-.94-2.06-.94 2.06-2.06.94z\"/><path d=\"M17.41 7.96l-1.37-1.37c-.4-.4-.92-.59-1.43-.59-.52 0-1.04.2-1.43.59L10.3 9.45l-7.72 7.72c-.78.78-.78 2.05 0 2.83L4 21.41c.39.39.9.59 1.41.59.51 0 1.02-.2 1.41-.59l7.78-7.78 2.81-2.81c.8-.78.8-2.07 0-2.86zM5.41 20L4 18.59l7.72-7.72 1.47 1.35L5.41 20z\"/>\n",
              "  </svg>\n",
              "      </button>\n",
              "      \n",
              "  <style>\n",
              "    .colab-df-container {\n",
              "      display:flex;\n",
              "      flex-wrap:wrap;\n",
              "      gap: 12px;\n",
              "    }\n",
              "\n",
              "    .colab-df-convert {\n",
              "      background-color: #E8F0FE;\n",
              "      border: none;\n",
              "      border-radius: 50%;\n",
              "      cursor: pointer;\n",
              "      display: none;\n",
              "      fill: #1967D2;\n",
              "      height: 32px;\n",
              "      padding: 0 0 0 0;\n",
              "      width: 32px;\n",
              "    }\n",
              "\n",
              "    .colab-df-convert:hover {\n",
              "      background-color: #E2EBFA;\n",
              "      box-shadow: 0px 1px 2px rgba(60, 64, 67, 0.3), 0px 1px 3px 1px rgba(60, 64, 67, 0.15);\n",
              "      fill: #174EA6;\n",
              "    }\n",
              "\n",
              "    [theme=dark] .colab-df-convert {\n",
              "      background-color: #3B4455;\n",
              "      fill: #D2E3FC;\n",
              "    }\n",
              "\n",
              "    [theme=dark] .colab-df-convert:hover {\n",
              "      background-color: #434B5C;\n",
              "      box-shadow: 0px 1px 3px 1px rgba(0, 0, 0, 0.15);\n",
              "      filter: drop-shadow(0px 1px 2px rgba(0, 0, 0, 0.3));\n",
              "      fill: #FFFFFF;\n",
              "    }\n",
              "  </style>\n",
              "\n",
              "      <script>\n",
              "        const buttonEl =\n",
              "          document.querySelector('#df-e2100508-ed86-4f30-a4ab-61a1a9a4fbd5 button.colab-df-convert');\n",
              "        buttonEl.style.display =\n",
              "          google.colab.kernel.accessAllowed ? 'block' : 'none';\n",
              "\n",
              "        async function convertToInteractive(key) {\n",
              "          const element = document.querySelector('#df-e2100508-ed86-4f30-a4ab-61a1a9a4fbd5');\n",
              "          const dataTable =\n",
              "            await google.colab.kernel.invokeFunction('convertToInteractive',\n",
              "                                                     [key], {});\n",
              "          if (!dataTable) return;\n",
              "\n",
              "          const docLinkHtml = 'Like what you see? Visit the ' +\n",
              "            '<a target=\"_blank\" href=https://colab.research.google.com/notebooks/data_table.ipynb>data table notebook</a>'\n",
              "            + ' to learn more about interactive tables.';\n",
              "          element.innerHTML = '';\n",
              "          dataTable['output_type'] = 'display_data';\n",
              "          await google.colab.output.renderOutput(dataTable, element);\n",
              "          const docLink = document.createElement('div');\n",
              "          docLink.innerHTML = docLinkHtml;\n",
              "          element.appendChild(docLink);\n",
              "        }\n",
              "      </script>\n",
              "    </div>\n",
              "  </div>\n",
              "  "
            ]
          },
          "metadata": {},
          "execution_count": 21
        }
      ]
    },
    {
      "cell_type": "markdown",
      "source": [
        "Ao analisar os boxplots, podemos observar que os modelos hipercomplexos apresentaram, em média, desempenhos superiores aos modelos com valores reais. Dentre as álgebras utilizadas para os modelos hipercomplexos, a rede com álgebra Cl(2,0) obteve a melhor média de acurácia, além de apresentar uma das melhores medianas, um valor máximo mais alto e um desvio padrão menor em comparação aos demais modelos."
      ],
      "metadata": {
        "id": "4X0hbI8q6L28"
      }
    },
    {
      "cell_type": "markdown",
      "source": [
        "# Conclusão\n",
        "\n",
        "Redes neurais convolucionais com valores hipercomplexos mostraram-se uma abordagem promissora para a análise de imagens, especialmente em aplicações médicas. Os resultados obtidos neste trabalho demonstraram que esses modelos têm um desempenho superior em relação às redes convencionais, especialmente quando utilizados em conjunto com álgebra de Clifford de dimensão 4.\n",
        "\n",
        "Este estudo pode ser ampliado para a área de visão computacional de detecção de objetos, onde o objetivo seria identificar linfoblastos em uma imagem com diversos glóbulos brancos. Essa aplicação pode ser muito útil, pois muitas vezes os médicos precisam contar manualmente o número de linfoblastos em uma imagem. Se integrados a um software, esses modelos poderiam executar essa tarefa automaticamente, permitindo que os médicos se concentrem em outras tarefas mais importantes e menos mecânicas. Em resumo, esta pesquisa abre um caminho para a utilização de modelos com valores hipercomplexos em outras aplicações de análise de imagens, especialmente na área médica."
      ],
      "metadata": {
        "id": "vDOzI5Xs6NEh"
      }
    }
  ]
}